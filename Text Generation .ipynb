{
 "cells": [
  {
   "cell_type": "code",
   "execution_count": 4,
   "metadata": {},
   "outputs": [],
   "source": [
    "import pandas as pd\n",
    "import numpy as np "
   ]
  },
  {
   "cell_type": "code",
   "execution_count": 5,
   "metadata": {},
   "outputs": [
    {
     "name": "stderr",
     "output_type": "stream",
     "text": [
      "Using TensorFlow backend.\n"
     ]
    }
   ],
   "source": [
    "import numpy as np\n",
    "import pandas as pd\n",
    "from keras.models import Sequential\n",
    "from keras.layers import Dense\n",
    "from keras.layers import Dropout\n",
    "from keras.layers import LSTM\n",
    "from keras.utils import np_utils"
   ]
  },
  {
   "cell_type": "code",
   "execution_count": 111,
   "metadata": {},
   "outputs": [],
   "source": [
    "pd.set_option('display.max_rows', 500)\n",
    "pd.set_option('display.max_columns', 500)\n",
    "pd.set_option('display.width', 1000)"
   ]
  },
  {
   "cell_type": "code",
   "execution_count": 16,
   "metadata": {},
   "outputs": [],
   "source": [
    "import markovify \n",
    "import spacy"
   ]
  },
  {
   "cell_type": "code",
   "execution_count": 119,
   "metadata": {
    "scrolled": true
   },
   "outputs": [],
   "source": [
    "df = pd.read_csv('df_for_generation.csv')"
   ]
  },
  {
   "cell_type": "code",
   "execution_count": 124,
   "metadata": {},
   "outputs": [],
   "source": [
    "df['title'] = df['title'].astype(str)"
   ]
  },
  {
   "cell_type": "code",
   "execution_count": 126,
   "metadata": {},
   "outputs": [],
   "source": [
    "df['content'] = df['content'].astype(str)"
   ]
  },
  {
   "cell_type": "code",
   "execution_count": 121,
   "metadata": {},
   "outputs": [
    {
     "name": "stdout",
     "output_type": "stream",
     "text": [
      "<class 'pandas.core.frame.DataFrame'>\n",
      "RangeIndex: 146394 entries, 0 to 146393\n",
      "Data columns (total 6 columns):\n",
      "Unnamed: 0     146394 non-null int64\n",
      "content        146361 non-null object\n",
      "date           143753 non-null object\n",
      "publication    146394 non-null object\n",
      "title          146392 non-null object\n",
      "url            89383 non-null object\n",
      "dtypes: int64(1), object(5)\n",
      "memory usage: 6.7+ MB\n"
     ]
    }
   ],
   "source": [
    "df.info()"
   ]
  },
  {
   "cell_type": "markdown",
   "metadata": {},
   "source": [
    "### Data preprocessing"
   ]
  },
  {
   "cell_type": "markdown",
   "metadata": {},
   "source": [
    "### Generating titles"
   ]
  },
  {
   "cell_type": "code",
   "execution_count": 28,
   "metadata": {},
   "outputs": [
    {
     "data": {
      "text/html": [
       "<div>\n",
       "<style scoped>\n",
       "    .dataframe tbody tr th:only-of-type {\n",
       "        vertical-align: middle;\n",
       "    }\n",
       "\n",
       "    .dataframe tbody tr th {\n",
       "        vertical-align: top;\n",
       "    }\n",
       "\n",
       "    .dataframe thead th {\n",
       "        text-align: right;\n",
       "    }\n",
       "</style>\n",
       "<table border=\"1\" class=\"dataframe\">\n",
       "  <thead>\n",
       "    <tr style=\"text-align: right;\">\n",
       "      <th></th>\n",
       "      <th>Unnamed: 0</th>\n",
       "      <th>id</th>\n",
       "      <th>title</th>\n",
       "      <th>publication</th>\n",
       "      <th>author</th>\n",
       "      <th>date</th>\n",
       "      <th>year</th>\n",
       "      <th>month</th>\n",
       "      <th>url</th>\n",
       "      <th>content</th>\n",
       "    </tr>\n",
       "  </thead>\n",
       "  <tbody>\n",
       "  </tbody>\n",
       "</table>\n",
       "</div>"
      ],
      "text/plain": [
       "Empty DataFrame\n",
       "Columns: [Unnamed: 0, id, title, publication, author, date, year, month, url, content]\n",
       "Index: []"
      ]
     },
     "execution_count": 28,
     "metadata": {},
     "output_type": "execute_result"
    }
   ],
   "source": [
    "df[df['title'].str.contains('NBC News Asks Donald Trump ffice')]"
   ]
  },
  {
   "cell_type": "code",
   "execution_count": 127,
   "metadata": {},
   "outputs": [
    {
     "data": {
      "text/plain": [
       "[\"2 Other Times Kellyanne Conway Referred to Bowling Green 'Massacre' or 'Attack' nan\",\n",
       " \"Dept. of Justice Cites 'National Security' in Calling for Trump Immigration Order Reinstatement nan\",\n",
       " 'At Least 4 Tornadoes Reported in Southeast Louisiana nan',\n",
       " 'A vote for DeVos is a vote for resegregation Felicia Wong is President and CEO of the Roosevelt Institute, an economic and social policy think tank working to re-imagine the rules so they work for all Americans, and co-author of the forthcoming book \"Rewrite the Racial Rules: Building an Inclusive American Economy.\" Randi Weingarten, President of the American Federation of Teachers, is on Roosevelt\\'s board. The views expressed in this commentary are her own.',\n",
       " 'Tom Brady Says Wife Gisele Bundchen Wants Him to Retire nan',\n",
       " 'What Effect Does Suger Have on Our Brains? nan',\n",
       " 'Want to buy a house? Under 25? Watch this nan',\n",
       " 'Trump vs. America: The fight for democracy Frida Ghitis is a world affairs columnist for The Miami Herald and World Politics Review, and a former CNN producer and correspondent. The views expressed in this commentary are her own.',\n",
       " 'Why the falling cost of light matters Back in the mid-1990s, an economist called William Nordhaus conducted a series of simple experiments with light.',\n",
       " 'EU to Britain: Pay Up for What You Ordered Before Leaving nan']"
      ]
     },
     "execution_count": 127,
     "metadata": {},
     "output_type": "execute_result"
    }
   ],
   "source": [
    "import random\n",
    "list(df.title[random.sample(range(100), 10)])"
   ]
  },
  {
   "cell_type": "code",
   "execution_count": 128,
   "metadata": {},
   "outputs": [],
   "source": [
    "text_model = markovify.NewlineText(df.title, state_size = 2)"
   ]
  },
  {
   "cell_type": "code",
   "execution_count": 129,
   "metadata": {},
   "outputs": [
    {
     "name": "stdout",
     "output_type": "stream",
     "text": [
      " Dee Dee Wanted Her Mom To A Religion - Breitbart\n",
      "Russia submits amicus curiae brief to US sanctions against Iran aren’t as aggressive as you think\n",
      "Obama Criticizes Trump nan\n",
      "NYU brings back Walter White made drugs to help with this notion that Donald Trump Says ’Safety Will Be Firing - Breitbart\n",
      "It Pays to Be Single in New York Thug Slashes Wheelchair-Bound Woman in Face with Wrench\n"
     ]
    }
   ],
   "source": [
    "# Print ten randomly-generated sentences using the built model\n",
    "for i in range(5):\n",
    "    print(text_model.make_sentence())"
   ]
  },
  {
   "cell_type": "markdown",
   "metadata": {},
   "source": [
    "### Markov Chain Model with Different State Size"
   ]
  },
  {
   "cell_type": "code",
   "execution_count": 46,
   "metadata": {},
   "outputs": [],
   "source": [
    "text_model2 = markovify.NewlineText(df.title, state_size = 4)\n"
   ]
  },
  {
   "cell_type": "code",
   "execution_count": 116,
   "metadata": {},
   "outputs": [
    {
     "name": "stdout",
     "output_type": "stream",
     "text": [
      "Police officer who fatally shot an unarmed black man is underway — here’s what you need to know about Augusta\n",
      "California Primary -- Fox News Poll: Trump 49, Cruz 31 in California Primary\n",
      "Trump Touts Momentum in Battleground States: ’We Are Going to Continue This Fight’ After SC - Breitbart\n",
      "***Live Updates*** Bernie, Hillary Meet in New Hampshire Town Hall Due To Weather - Breitbart\n",
      "California Primary -- Fox News Poll: Trump 49, Cruz 31 in California Primary\n",
      "Why Betsy DeVos Won’t Be Able to Stop Him - Breitbart\n",
      "Warren Buffett’s bet on Yahoo could be the best thing to happen to the most iconic dining rooms in NYC\n",
      "Conway: Conclusion Russia Was Acting to Help Trump Win Election ’a Lie’ - Breitbart\n",
      "Samantha Bee Mocks Trump, Roasts Media at ’Not the White House Correspondents’ Dinner - The New York Times\n",
      "Putin left important military tasks ’unfinished’ in Syria, and it shows that most teams probably overthink the process\n",
      "Hillary: My SCOTUS Nominees Will Be People Who Think Roe v. Wade Is a Precedent of the U.S. Supreme Court - Breitbart\n",
      "Millennials’ distrust of banks is spawning a new breed of trader is threatening the Wall Street establishment\n"
     ]
    }
   ],
   "source": [
    "# Print three randomly-generated sentences using the built model\n",
    "for i in range(100):\n",
    "    temp = text_model2.make_sentence()\n",
    "    if temp is not None: #escpaing None with this if condition as higher state markov model has generated more Nones\n",
    "\n",
    "        print(temp)"
   ]
  },
  {
   "cell_type": "markdown",
   "metadata": {},
   "source": [
    "### Generating articles"
   ]
  },
  {
   "cell_type": "code",
   "execution_count": 117,
   "metadata": {},
   "outputs": [],
   "source": [
    "text_model_full = markovify.NewlineText(df.content, state_size = 4)\n",
    "text_model_full = markovify.NewlineText(df.content, state_size = 4)\n",
    "\n",
    "model_combo = markovify.combine([ text_model11, text_model12 ], [ 1.5, 1 ])\n",
    "# Print three randomly-generated sentences using the built model"
   ]
  },
  {
   "cell_type": "code",
   "execution_count": 118,
   "metadata": {},
   "outputs": [
    {
     "name": "stdout",
     "output_type": "stream",
     "text": [
      "’ ’ ’ ’ ’ ’ ’ BERKELEY, Calif. — Police at the. ..’\n",
      "’ ’ ’ ’ ’ ’ ’ Former pharmaceutical executive Martin Shkreli. ..’ ’’ ’’ ’’\n"
     ]
    }
   ],
   "source": [
    "for i in range(2):\n",
    "    print(model_combo.make_short_sentence(140))"
   ]
  },
  {
   "cell_type": "code",
   "execution_count": 39,
   "metadata": {},
   "outputs": [],
   "source": [
    "def generate_comments(generator, number=10, short=False):\n",
    "    count = 0\n",
    "    while count < number:\n",
    "        if short:\n",
    "            comment = generator.make_short_sentence(140)\n",
    "        else:\n",
    "            comment = generator.make_sentence()\n",
    "        if comment:\n",
    "            count += 1\n",
    "            print(\"Comment {}\".format(count))\n",
    "            print(comment)\n",
    "            print()\n",
    "    "
   ]
  },
  {
   "cell_type": "code",
   "execution_count": 50,
   "metadata": {},
   "outputs": [
    {
     "name": "stdout",
     "output_type": "stream",
     "text": [
      "Comment 1\n",
      "Palestinian Swimmer Lied About Dylann Roof’s Lawyers Argue That His Mental Health\n",
      "\n",
      "Comment 2\n",
      "Trump Lawyers Agree to Keep It From the Grave! This Election, Tried to Kill Sister Who Married a Christian\n",
      "\n",
      "Comment 3\n",
      "Pro-Abortion Congressional Black Caucus Chair: ’Donald Trump and his coworkers say corporate culture is to build a Kickstarter knockoff turned into a 300-mile-long sea — and it’s killing Applebee’s and Buffalo Wild Wings\n",
      "\n",
      "Comment 4\n",
      "Is Trump the ’Kim Kardashian of Pakistan’ Allegedly Murdered by Brother in ’Honor Killing’ After Being Raped\n",
      "\n",
      "Comment 5\n",
      "WATCH: Nicolas Cage Puts Vince Neil slays the national anthem: The surprising history of praise for autocrats, dictators and strongmen\n",
      "\n",
      "Comment 6\n",
      "Newsweek Writer Kurt Eichenwald Humiliated After Accidentally Shooting Himself - The New York Times\n",
      "\n",
      "Comment 7\n",
      "Planned Parenthood: ‘Trans Suicide Hotline Calls Doubled’ After NC Bathroom Law: ’We Don’t Want Syrians in My Eyes’ - Breitbart\n",
      "\n",
      "Comment 8\n",
      "ESPN Host: Athletes May Skip Utah Debate for Donald Trump is making foreign intelligence agencies’ jobs ’much easier’\n",
      "\n",
      "Comment 9\n",
      "Blue State Blues: Top 10 players to watch\n",
      "\n",
      "Comment 10\n",
      "WATCH: Congressman Keith Ellison as Deputy - Breitbart\n",
      "\n"
     ]
    }
   ],
   "source": [
    "generate_comments(model_combo)\n"
   ]
  },
  {
   "cell_type": "markdown",
   "metadata": {},
   "source": [
    "### More advanced "
   ]
  },
  {
   "cell_type": "code",
   "execution_count": 72,
   "metadata": {},
   "outputs": [],
   "source": [
    "import textacy\n",
    "import re\n",
    "from unidecode import unidecode"
   ]
  },
  {
   "cell_type": "code",
   "execution_count": 100,
   "metadata": {},
   "outputs": [
    {
     "name": "stderr",
     "output_type": "stream",
     "text": [
      "[nltk_data] Downloading package averaged_perceptron_tagger to\n",
      "[nltk_data]     /Users/aisuluomar/nltk_data...\n",
      "[nltk_data]   Unzipping taggers/averaged_perceptron_tagger.zip.\n"
     ]
    },
    {
     "data": {
      "text/plain": [
       "True"
      ]
     },
     "execution_count": 100,
     "metadata": {},
     "output_type": "execute_result"
    }
   ],
   "source": [
    "import nltk\n",
    "import re\n",
    "nltk.download('averaged_perceptron_tagger')\n"
   ]
  },
  {
   "cell_type": "code",
   "execution_count": 76,
   "metadata": {},
   "outputs": [],
   "source": [
    "df_list = list(df.title)"
   ]
  },
  {
   "cell_type": "code",
   "execution_count": 82,
   "metadata": {},
   "outputs": [],
   "source": [
    "corpus_list = [i.split() for i in df_list]"
   ]
  },
  {
   "cell_type": "code",
   "execution_count": 84,
   "metadata": {},
   "outputs": [],
   "source": [
    "corpus = ''.join(str(e) for e in corpus_list)"
   ]
  },
  {
   "cell_type": "code",
   "execution_count": 81,
   "metadata": {},
   "outputs": [
    {
     "data": {
      "text/plain": [
       "list"
      ]
     },
     "execution_count": 81,
     "metadata": {},
     "output_type": "execute_result"
    }
   ],
   "source": [
    "type(corpus)"
   ]
  },
  {
   "cell_type": "code",
   "execution_count": 105,
   "metadata": {},
   "outputs": [],
   "source": [
    "class POSifiedText(markovify.Text):\n",
    "    def word_split(self, sentence):\n",
    "        words = re.split(self.word_split_pattern, sentence)\n",
    "        words = [ \"::\".join(tag) for tag in nltk.pos_tag(words) ]\n",
    "        return words\n",
    "\n",
    "    def word_join(self, words):\n",
    "        sentence = \" \".join(word.split(\"::\")[0] for word in words)\n",
    "        return sentence"
   ]
  },
  {
   "cell_type": "code",
   "execution_count": 106,
   "metadata": {},
   "outputs": [
    {
     "name": "stdout",
     "output_type": "stream",
     "text": [
      "’AN INTENTIONAL ACT’ Dozens injured in bus blasts before Dortmund-Monaco match\n"
     ]
    }
   ],
   "source": [
    "model = POSifiedText(df.title)\n",
    "# A sentence based on the model\n",
    "print(model.make_sentence())"
   ]
  },
  {
   "cell_type": "code",
   "execution_count": 102,
   "metadata": {},
   "outputs": [
    {
     "name": "stdout",
     "output_type": "stream",
     "text": [
      "Eying Georgia and Arizona, Clinton campaign says it killed U.S. tourist\n",
      "Trump’s travel ban What we learned from Tony Awards Red Carpet - The New York Times\n",
      "At BlackRock, a Wall St. Elite - The New York Times\n",
      "Marco Rubio ‘You Are Very Small’ - Breitbart\n",
      "French Election Fillon’s Fate Hinges on Paris Climate Change Agreement - Breitbart\n"
     ]
    }
   ],
   "source": [
    "for i in range(5):\n",
    "    print(model.make_sentence())"
   ]
  },
  {
   "cell_type": "markdown",
   "metadata": {},
   "source": [
    "### Recurrent Neural Networks"
   ]
  },
  {
   "cell_type": "code",
   "execution_count": 130,
   "metadata": {},
   "outputs": [],
   "source": [
    "import numpy as np\n",
    "import pandas as pd\n",
    "from keras.models import Sequential\n",
    "from keras.layers import Dense\n",
    "from keras.layers import Dropout\n",
    "from keras.layers import LSTM\n",
    "from keras.layers import RNN\n",
    "from keras.utils import np_utils\n",
    "from keras.callbacks import ModelCheckpoint"
   ]
  },
  {
   "cell_type": "code",
   "execution_count": 132,
   "metadata": {},
   "outputs": [],
   "source": [
    "text = list(df.title)"
   ]
  },
  {
   "cell_type": "code",
   "execution_count": 135,
   "metadata": {},
   "outputs": [
    {
     "data": {
      "text/plain": [
       "['Melania Trump Says White House Could Mean Millions for Brand nan',\n",
       " 'As Trump Fears Fraud, GOP Eliminates Election Commission nan',\n",
       " \"Appeals Court to Decide on Challenge to Trump's Immigration Executive Order nan\",\n",
       " 'At Least 4 Tornadoes Reported in Southeast Louisiana nan',\n",
       " 'Mother of Backpacker Slain in Australia Criticizes Trump nan']"
      ]
     },
     "execution_count": 135,
     "metadata": {},
     "output_type": "execute_result"
    }
   ],
   "source": [
    "text[1:6]"
   ]
  },
  {
   "cell_type": "code",
   "execution_count": 138,
   "metadata": {},
   "outputs": [],
   "source": [
    "text = [x.lower() for x in text]"
   ]
  },
  {
   "cell_type": "code",
   "execution_count": 140,
   "metadata": {},
   "outputs": [],
   "source": [
    "characters = sorted(list(set(text)))"
   ]
  },
  {
   "cell_type": "code",
   "execution_count": 142,
   "metadata": {},
   "outputs": [
    {
     "name": "stderr",
     "output_type": "stream",
     "text": [
      "IOPub data rate exceeded.\n",
      "The notebook server will temporarily stop sending output\n",
      "to the client in order to avoid crashing it.\n",
      "To change this limit, set the config variable\n",
      "`--NotebookApp.iopub_data_rate_limit`.\n",
      "\n",
      "Current values:\n",
      "NotebookApp.iopub_data_rate_limit=1000000.0 (bytes/sec)\n",
      "NotebookApp.rate_limit_window=3.0 (secs)\n",
      "\n"
     ]
    }
   ],
   "source": [
    "n_to_char = {n:char for n, char in enumerate(characters)}\n",
    "char_to_n = {char:n for n, char in enumerate(characters)}\n",
    "\n",
    "vocab_size = len(characters)\n",
    "print('Number of unique characters: ', vocab_size)\n",
    "print(characters)"
   ]
  },
  {
   "cell_type": "code",
   "execution_count": 143,
   "metadata": {},
   "outputs": [
    {
     "name": "stdout",
     "output_type": "stream",
     "text": [
      "Number of extracted sequences: 146294\n"
     ]
    }
   ],
   "source": [
    "X = []   # extracted sequences\n",
    "Y = []   # the target: follow up character for each sequence in X\n",
    "length = len(text)\n",
    "seq_length = 100\n",
    "\n",
    "for i in range(0, length - seq_length, 1):\n",
    "    sequence = text[i:i + seq_length]\n",
    "    label = text[i + seq_length]\n",
    "    X.append([char_to_n[char] for char in sequence])\n",
    "    Y.append(char_to_n[label])\n",
    "    \n",
    "print('Number of extracted sequences:', len(X))"
   ]
  },
  {
   "cell_type": "code",
   "execution_count": 144,
   "metadata": {},
   "outputs": [],
   "source": [
    "X_modified = np.reshape(X, (len(X), seq_length, 1))\n",
    "X_modified = X_modified / float(len(characters))\n",
    "Y_modified = np_utils.to_categorical(Y)"
   ]
  },
  {
   "cell_type": "code",
   "execution_count": 145,
   "metadata": {},
   "outputs": [
    {
     "name": "stdout",
     "output_type": "stream",
     "text": [
      "WARNING:tensorflow:From /anaconda3/envs/Metis/lib/python3.7/site-packages/keras/backend/tensorflow_backend.py:74: The name tf.get_default_graph is deprecated. Please use tf.compat.v1.get_default_graph instead.\n",
      "\n",
      "WARNING:tensorflow:From /anaconda3/envs/Metis/lib/python3.7/site-packages/keras/backend/tensorflow_backend.py:517: The name tf.placeholder is deprecated. Please use tf.compat.v1.placeholder instead.\n",
      "\n",
      "WARNING:tensorflow:From /anaconda3/envs/Metis/lib/python3.7/site-packages/keras/backend/tensorflow_backend.py:4138: The name tf.random_uniform is deprecated. Please use tf.random.uniform instead.\n",
      "\n",
      "WARNING:tensorflow:From /anaconda3/envs/Metis/lib/python3.7/site-packages/keras/backend/tensorflow_backend.py:133: The name tf.placeholder_with_default is deprecated. Please use tf.compat.v1.placeholder_with_default instead.\n",
      "\n",
      "WARNING:tensorflow:From /anaconda3/envs/Metis/lib/python3.7/site-packages/keras/backend/tensorflow_backend.py:3445: calling dropout (from tensorflow.python.ops.nn_ops) with keep_prob is deprecated and will be removed in a future version.\n",
      "Instructions for updating:\n",
      "Please use `rate` instead of `keep_prob`. Rate should be set to `rate = 1 - keep_prob`.\n"
     ]
    }
   ],
   "source": [
    "model = Sequential()\n",
    "model.add(LSTM(700, input_shape=(X_modified.shape[1], X_modified.shape[2]), return_sequences=True))\n",
    "model.add(Dropout(0.2))\n",
    "model.add(LSTM(700, return_sequences=True))\n",
    "model.add(Dropout(0.2))\n",
    "model.add(LSTM(700))\n",
    "model.add(Dropout(0.2))\n",
    "model.add(Dense(Y_modified.shape[1], activation='softmax'))"
   ]
  },
  {
   "cell_type": "code",
   "execution_count": 148,
   "metadata": {},
   "outputs": [],
   "source": [
    "# load the network weights saved in the folder model_weights\n",
    "#filename = \"model_weights/gigantic-improvement-20-0.5606.hdf5\"\n",
    "#model.load_weights(filename)\n",
    "model.compile(loss='categorical_crossentropy', optimizer='adam')\n",
    "\n",
    "# define how model checkpoints are saved\n",
    "#filepath = \"model_weights/gigantic-improvement-ctd20-{epoch:02d}-{loss:.4f}.hdf5\"\n",
    "#checkpoint = ModelCheckpoint(file, monitor='loss', verbose=1, save_best_only=True, mode='min')\n",
    "#callbacks_list = [checkpoint]"
   ]
  },
  {
   "cell_type": "code",
   "execution_count": null,
   "metadata": {},
   "outputs": [
    {
     "name": "stdout",
     "output_type": "stream",
     "text": [
      "WARNING:tensorflow:From /anaconda3/envs/Metis/lib/python3.7/site-packages/tensorflow/python/ops/math_grad.py:1250: add_dispatch_support.<locals>.wrapper (from tensorflow.python.ops.array_ops) is deprecated and will be removed in a future version.\n",
      "Instructions for updating:\n",
      "Use tf.where in 2.0, which has the same broadcast rule as np.where\n",
      "Epoch 1/10\n"
     ]
    }
   ],
   "source": [
    "model.fit(X_modified, Y_modified, epochs=10, batch_size=128)"
   ]
  },
  {
   "cell_type": "code",
   "execution_count": null,
   "metadata": {},
   "outputs": [],
   "source": []
  }
 ],
 "metadata": {
  "kernelspec": {
   "display_name": "metis",
   "language": "python",
   "name": "metis"
  },
  "language_info": {
   "codemirror_mode": {
    "name": "ipython",
    "version": 3
   },
   "file_extension": ".py",
   "mimetype": "text/x-python",
   "name": "python",
   "nbconvert_exporter": "python",
   "pygments_lexer": "ipython3",
   "version": "3.7.4"
  }
 },
 "nbformat": 4,
 "nbformat_minor": 2
}

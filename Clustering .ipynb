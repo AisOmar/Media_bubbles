{
 "cells": [
  {
   "cell_type": "markdown",
   "metadata": {},
   "source": [
    "### Imports"
   ]
  },
  {
   "cell_type": "code",
   "execution_count": 1,
   "metadata": {},
   "outputs": [
    {
     "name": "stdout",
     "output_type": "stream",
     "text": [
      "Populating the interactive namespace from numpy and matplotlib\n"
     ]
    }
   ],
   "source": [
    "# see https://ipython.readthedocs.io/en/stable/interactive/magics.html\n",
    "%pylab inline\n",
    "\n",
    "# sets backend to render higher res images\n",
    "%config InlineBackend.figure_formats = ['retina']\n",
    "\n",
    "\n",
    "# uses custom metis style sheet for notebooks\n",
    "from IPython.core.display import HTML\n",
    "HTML(\"\"\"<link rel=\"stylesheet\" href=\"https://soph.info/metis/nb.css\" type=\"text/css\"/>\"\"\")\n",
    "\n",
    "#######################\n",
    "#       imports       #\n",
    "#######################\n",
    "import pandas as pd\n",
    "import seaborn as sns\n",
    "\n",
    "# import sklearn\n",
    "from sklearn.preprocessing import scale\n",
    "from sklearn.cluster import KMeans\n",
    "from sklearn.datasets import make_blobs\n",
    "from sklearn.datasets import fetch_mldata\n",
    "from sklearn.utils import shuffle"
   ]
  },
  {
   "cell_type": "code",
   "execution_count": 126,
   "metadata": {},
   "outputs": [
    {
     "name": "stderr",
     "output_type": "stream",
     "text": [
      "Using TensorFlow backend.\n"
     ]
    }
   ],
   "source": [
    "# gensim\n",
    "import gensim\n",
    "\n",
    "# keras\n",
    "from keras.models import Sequential\n",
    "from keras.layers import (Dense, Embedding, Reshape, Activation, \n",
    "                          SimpleRNN, LSTM, Convolution1D, \n",
    "                          MaxPooling1D, Dropout, Bidirectional)\n",
    "from keras.utils import np_utils\n",
    "from keras.utils.data_utils import get_file\n",
    "from keras.preprocessing.text import Tokenizer\n",
    "from keras.datasets import imdb, reuters\n",
    "from keras.preprocessing import sequence\n",
    "from keras.optimizers import SGD, RMSprop\n",
    "\n",
    "\n",
    "# logging for gensim (set to INFO)\n",
    "import logging\n",
    "logging.basicConfig(format='%(asctime)s : %(levelname)s : %(message)s', level=logging.INFO)"
   ]
  },
  {
   "cell_type": "code",
   "execution_count": 91,
   "metadata": {},
   "outputs": [],
   "source": [
    "from sklearn.feature_extraction.text import TfidfVectorizer"
   ]
  },
  {
   "cell_type": "code",
   "execution_count": 9,
   "metadata": {},
   "outputs": [],
   "source": [
    "pd.set_option('display.max_rows', 500)\n",
    "pd.set_option('display.max_columns', 500)\n",
    "pd.set_option('display.width', 1000)"
   ]
  },
  {
   "cell_type": "markdown",
   "metadata": {},
   "source": [
    "### Cleaning df1"
   ]
  },
  {
   "cell_type": "code",
   "execution_count": 64,
   "metadata": {},
   "outputs": [],
   "source": [
    "df1 = pd.read_csv('NewsArticles.csv',encoding='latin1')"
   ]
  },
  {
   "cell_type": "code",
   "execution_count": 65,
   "metadata": {},
   "outputs": [],
   "source": [
    "df1 = df1[['article_id', 'publish_date', 'article_source_link', 'title',\n",
    "       'subtitle', 'text']]"
   ]
  },
  {
   "cell_type": "code",
   "execution_count": 36,
   "metadata": {},
   "outputs": [],
   "source": [
    "for row in df1['article_source_link']:\n",
    "    df1['publication'] = row.split('/')[2].split('.')[0]"
   ]
  },
  {
   "cell_type": "code",
   "execution_count": 37,
   "metadata": {},
   "outputs": [
    {
     "data": {
      "text/html": [
       "<div>\n",
       "<style scoped>\n",
       "    .dataframe tbody tr th:only-of-type {\n",
       "        vertical-align: middle;\n",
       "    }\n",
       "\n",
       "    .dataframe tbody tr th {\n",
       "        vertical-align: top;\n",
       "    }\n",
       "\n",
       "    .dataframe thead th {\n",
       "        text-align: right;\n",
       "    }\n",
       "</style>\n",
       "<table border=\"1\" class=\"dataframe\">\n",
       "  <thead>\n",
       "    <tr style=\"text-align: right;\">\n",
       "      <th></th>\n",
       "      <th>article_id</th>\n",
       "      <th>publish_date</th>\n",
       "      <th>article_source_link</th>\n",
       "      <th>title</th>\n",
       "      <th>subtitle</th>\n",
       "      <th>text</th>\n",
       "      <th>publication</th>\n",
       "    </tr>\n",
       "  </thead>\n",
       "  <tbody>\n",
       "    <tr>\n",
       "      <th>0</th>\n",
       "      <td>1</td>\n",
       "      <td>2017/2/7</td>\n",
       "      <td>http://abcnews.go.com/Politics/pence-break-tie...</td>\n",
       "      <td>Betsy DeVos Confirmed as Education Secretary, ...</td>\n",
       "      <td>NaN</td>\n",
       "      <td>Michigan billionaire education activist Betsy ...</td>\n",
       "      <td>www</td>\n",
       "    </tr>\n",
       "    <tr>\n",
       "      <th>1</th>\n",
       "      <td>2</td>\n",
       "      <td>2017/2/7</td>\n",
       "      <td>http://abcnews.go.com/Politics/wireStory/melan...</td>\n",
       "      <td>Melania Trump Says White House Could Mean Mill...</td>\n",
       "      <td>NaN</td>\n",
       "      <td>First lady Melania Trump has said little about...</td>\n",
       "      <td>www</td>\n",
       "    </tr>\n",
       "    <tr>\n",
       "      <th>2</th>\n",
       "      <td>3</td>\n",
       "      <td>2017/2/7</td>\n",
       "      <td>http://abcnews.go.com/Politics/wireStory/trump...</td>\n",
       "      <td>As Trump Fears Fraud, GOP Eliminates Election ...</td>\n",
       "      <td>NaN</td>\n",
       "      <td>A House committee voted on Tuesday to eliminat...</td>\n",
       "      <td>www</td>\n",
       "    </tr>\n",
       "    <tr>\n",
       "      <th>3</th>\n",
       "      <td>4</td>\n",
       "      <td>2017/2/7</td>\n",
       "      <td>http://abcnews.go.com/Politics/appeals-court-d...</td>\n",
       "      <td>Appeals Court to Decide on Challenge to Trump'...</td>\n",
       "      <td>NaN</td>\n",
       "      <td>This afternoon, three federal judges from the ...</td>\n",
       "      <td>www</td>\n",
       "    </tr>\n",
       "    <tr>\n",
       "      <th>4</th>\n",
       "      <td>5</td>\n",
       "      <td>2017/2/7</td>\n",
       "      <td>http://abcnews.go.com/US/23-states-winter-weat...</td>\n",
       "      <td>At Least 4 Tornadoes Reported in Southeast Lou...</td>\n",
       "      <td>NaN</td>\n",
       "      <td>At least four tornadoes touched down in Louisi...</td>\n",
       "      <td>www</td>\n",
       "    </tr>\n",
       "  </tbody>\n",
       "</table>\n",
       "</div>"
      ],
      "text/plain": [
       "   article_id publish_date                                article_source_link                                              title subtitle                                               text publication\n",
       "0           1     2017/2/7  http://abcnews.go.com/Politics/pence-break-tie...  Betsy DeVos Confirmed as Education Secretary, ...      NaN  Michigan billionaire education activist Betsy ...         www\n",
       "1           2     2017/2/7  http://abcnews.go.com/Politics/wireStory/melan...  Melania Trump Says White House Could Mean Mill...      NaN  First lady Melania Trump has said little about...         www\n",
       "2           3     2017/2/7  http://abcnews.go.com/Politics/wireStory/trump...  As Trump Fears Fraud, GOP Eliminates Election ...      NaN  A House committee voted on Tuesday to eliminat...         www\n",
       "3           4     2017/2/7  http://abcnews.go.com/Politics/appeals-court-d...  Appeals Court to Decide on Challenge to Trump'...      NaN  This afternoon, three federal judges from the ...         www\n",
       "4           5     2017/2/7  http://abcnews.go.com/US/23-states-winter-weat...  At Least 4 Tornadoes Reported in Southeast Lou...      NaN  At least four tornadoes touched down in Louisi...         www"
      ]
     },
     "execution_count": 37,
     "metadata": {},
     "output_type": "execute_result"
    }
   ],
   "source": [
    "df1.head()"
   ]
  },
  {
   "cell_type": "code",
   "execution_count": 38,
   "metadata": {},
   "outputs": [
    {
     "data": {
      "text/plain": [
       "'abcnews'"
      ]
     },
     "execution_count": 38,
     "metadata": {},
     "output_type": "execute_result"
    }
   ],
   "source": [
    "df1['article_source_link'][1].split('/')[2].split('.')[0]"
   ]
  },
  {
   "cell_type": "code",
   "execution_count": 66,
   "metadata": {},
   "outputs": [],
   "source": [
    "df1['pub'] = df1['article_source_link'].str.split('//').str[1]"
   ]
  },
  {
   "cell_type": "code",
   "execution_count": 67,
   "metadata": {},
   "outputs": [],
   "source": [
    "df1['pub2'] = df1['pub'].str.split('.').str[0]"
   ]
  },
  {
   "cell_type": "code",
   "execution_count": 69,
   "metadata": {},
   "outputs": [],
   "source": [
    "df1.drop(['pub'],axis=1,inplace=True)"
   ]
  },
  {
   "cell_type": "code",
   "execution_count": 70,
   "metadata": {},
   "outputs": [],
   "source": [
    "df1.rename({'pub2':'publication','publish_date':'date','article_source_link':'url','text':'content'},axis=1,inplace=True)"
   ]
  },
  {
   "cell_type": "code",
   "execution_count": 71,
   "metadata": {},
   "outputs": [],
   "source": [
    "df1.drop(['article_id'],axis=1,inplace=True)"
   ]
  },
  {
   "cell_type": "code",
   "execution_count": 72,
   "metadata": {},
   "outputs": [],
   "source": [
    "df1['title1'] = df1[['title','subtitle']].astype(str).apply(lambda x:' '.join(x),axis=1)"
   ]
  },
  {
   "cell_type": "code",
   "execution_count": 74,
   "metadata": {},
   "outputs": [],
   "source": [
    "df1.drop(['title','subtitle'],axis=1,inplace=True)"
   ]
  },
  {
   "cell_type": "code",
   "execution_count": 75,
   "metadata": {},
   "outputs": [],
   "source": [
    "df1.rename({'title1':'title'},axis=1,inplace=True)"
   ]
  },
  {
   "cell_type": "code",
   "execution_count": 76,
   "metadata": {},
   "outputs": [
    {
     "data": {
      "text/html": [
       "<div>\n",
       "<style scoped>\n",
       "    .dataframe tbody tr th:only-of-type {\n",
       "        vertical-align: middle;\n",
       "    }\n",
       "\n",
       "    .dataframe tbody tr th {\n",
       "        vertical-align: top;\n",
       "    }\n",
       "\n",
       "    .dataframe thead th {\n",
       "        text-align: right;\n",
       "    }\n",
       "</style>\n",
       "<table border=\"1\" class=\"dataframe\">\n",
       "  <thead>\n",
       "    <tr style=\"text-align: right;\">\n",
       "      <th></th>\n",
       "      <th>date</th>\n",
       "      <th>url</th>\n",
       "      <th>content</th>\n",
       "      <th>publication</th>\n",
       "      <th>title</th>\n",
       "    </tr>\n",
       "  </thead>\n",
       "  <tbody>\n",
       "    <tr>\n",
       "      <th>0</th>\n",
       "      <td>2017/2/7</td>\n",
       "      <td>http://abcnews.go.com/Politics/pence-break-tie...</td>\n",
       "      <td>Michigan billionaire education activist Betsy ...</td>\n",
       "      <td>abcnews</td>\n",
       "      <td>Betsy DeVos Confirmed as Education Secretary, ...</td>\n",
       "    </tr>\n",
       "    <tr>\n",
       "      <th>1</th>\n",
       "      <td>2017/2/7</td>\n",
       "      <td>http://abcnews.go.com/Politics/wireStory/melan...</td>\n",
       "      <td>First lady Melania Trump has said little about...</td>\n",
       "      <td>abcnews</td>\n",
       "      <td>Melania Trump Says White House Could Mean Mill...</td>\n",
       "    </tr>\n",
       "    <tr>\n",
       "      <th>2</th>\n",
       "      <td>2017/2/7</td>\n",
       "      <td>http://abcnews.go.com/Politics/wireStory/trump...</td>\n",
       "      <td>A House committee voted on Tuesday to eliminat...</td>\n",
       "      <td>abcnews</td>\n",
       "      <td>As Trump Fears Fraud, GOP Eliminates Election ...</td>\n",
       "    </tr>\n",
       "    <tr>\n",
       "      <th>3</th>\n",
       "      <td>2017/2/7</td>\n",
       "      <td>http://abcnews.go.com/Politics/appeals-court-d...</td>\n",
       "      <td>This afternoon, three federal judges from the ...</td>\n",
       "      <td>abcnews</td>\n",
       "      <td>Appeals Court to Decide on Challenge to Trump'...</td>\n",
       "    </tr>\n",
       "    <tr>\n",
       "      <th>4</th>\n",
       "      <td>2017/2/7</td>\n",
       "      <td>http://abcnews.go.com/US/23-states-winter-weat...</td>\n",
       "      <td>At least four tornadoes touched down in Louisi...</td>\n",
       "      <td>abcnews</td>\n",
       "      <td>At Least 4 Tornadoes Reported in Southeast Lou...</td>\n",
       "    </tr>\n",
       "  </tbody>\n",
       "</table>\n",
       "</div>"
      ],
      "text/plain": [
       "       date                                                url                                            content publication                                              title\n",
       "0  2017/2/7  http://abcnews.go.com/Politics/pence-break-tie...  Michigan billionaire education activist Betsy ...     abcnews  Betsy DeVos Confirmed as Education Secretary, ...\n",
       "1  2017/2/7  http://abcnews.go.com/Politics/wireStory/melan...  First lady Melania Trump has said little about...     abcnews  Melania Trump Says White House Could Mean Mill...\n",
       "2  2017/2/7  http://abcnews.go.com/Politics/wireStory/trump...  A House committee voted on Tuesday to eliminat...     abcnews  As Trump Fears Fraud, GOP Eliminates Election ...\n",
       "3  2017/2/7  http://abcnews.go.com/Politics/appeals-court-d...  This afternoon, three federal judges from the ...     abcnews  Appeals Court to Decide on Challenge to Trump'...\n",
       "4  2017/2/7  http://abcnews.go.com/US/23-states-winter-weat...  At least four tornadoes touched down in Louisi...     abcnews  At Least 4 Tornadoes Reported in Southeast Lou..."
      ]
     },
     "execution_count": 76,
     "metadata": {},
     "output_type": "execute_result"
    }
   ],
   "source": [
    "df1.head()"
   ]
  },
  {
   "cell_type": "markdown",
   "metadata": {},
   "source": [
    "### Cleaning the rest if dfs"
   ]
  },
  {
   "cell_type": "code",
   "execution_count": 11,
   "metadata": {},
   "outputs": [],
   "source": [
    "df2 = pd.read_csv('articles1.csv')"
   ]
  },
  {
   "cell_type": "code",
   "execution_count": 77,
   "metadata": {},
   "outputs": [],
   "source": [
    "df3 = pd.read_csv('articles2.csv')"
   ]
  },
  {
   "cell_type": "code",
   "execution_count": 78,
   "metadata": {},
   "outputs": [],
   "source": [
    "df4 = pd.read_csv('articles3.csv')"
   ]
  },
  {
   "cell_type": "code",
   "execution_count": 79,
   "metadata": {},
   "outputs": [
    {
     "name": "stderr",
     "output_type": "stream",
     "text": [
      "/anaconda3/envs/Metis/lib/python3.7/site-packages/ipykernel_launcher.py:1: FutureWarning: Sorting because non-concatenation axis is not aligned. A future version\n",
      "of pandas will change to not sort by default.\n",
      "\n",
      "To accept the future behavior, pass 'sort=False'.\n",
      "\n",
      "To retain the current behavior and silence the warning, pass 'sort=True'.\n",
      "\n",
      "  \"\"\"Entry point for launching an IPython kernel.\n"
     ]
    }
   ],
   "source": [
    "df_pre = pd.concat([df2,df3,df4],axis=0)"
   ]
  },
  {
   "cell_type": "code",
   "execution_count": 80,
   "metadata": {},
   "outputs": [
    {
     "data": {
      "text/html": [
       "<div>\n",
       "<style scoped>\n",
       "    .dataframe tbody tr th:only-of-type {\n",
       "        vertical-align: middle;\n",
       "    }\n",
       "\n",
       "    .dataframe tbody tr th {\n",
       "        vertical-align: top;\n",
       "    }\n",
       "\n",
       "    .dataframe thead th {\n",
       "        text-align: right;\n",
       "    }\n",
       "</style>\n",
       "<table border=\"1\" class=\"dataframe\">\n",
       "  <thead>\n",
       "    <tr style=\"text-align: right;\">\n",
       "      <th></th>\n",
       "      <th>Unnamed: 0</th>\n",
       "      <th>author</th>\n",
       "      <th>content</th>\n",
       "      <th>date</th>\n",
       "      <th>id</th>\n",
       "      <th>month</th>\n",
       "      <th>publication</th>\n",
       "      <th>title</th>\n",
       "      <th>url</th>\n",
       "      <th>year</th>\n",
       "    </tr>\n",
       "  </thead>\n",
       "  <tbody>\n",
       "    <tr>\n",
       "      <th>0</th>\n",
       "      <td>NaN</td>\n",
       "      <td>NaN</td>\n",
       "      <td>WASHINGTON  —   Congressional Republicans have...</td>\n",
       "      <td>2016-12-31</td>\n",
       "      <td>NaN</td>\n",
       "      <td>NaN</td>\n",
       "      <td>New York Times</td>\n",
       "      <td>House Republicans Fret About Winning Their Hea...</td>\n",
       "      <td>NaN</td>\n",
       "      <td>NaN</td>\n",
       "    </tr>\n",
       "    <tr>\n",
       "      <th>1</th>\n",
       "      <td>NaN</td>\n",
       "      <td>NaN</td>\n",
       "      <td>After the bullet shells get counted, the blood...</td>\n",
       "      <td>2017-06-19</td>\n",
       "      <td>NaN</td>\n",
       "      <td>NaN</td>\n",
       "      <td>New York Times</td>\n",
       "      <td>Rift Between Officers and Residents as Killing...</td>\n",
       "      <td>NaN</td>\n",
       "      <td>NaN</td>\n",
       "    </tr>\n",
       "    <tr>\n",
       "      <th>2</th>\n",
       "      <td>NaN</td>\n",
       "      <td>NaN</td>\n",
       "      <td>When Walt Disney’s “Bambi” opened in 1942, cri...</td>\n",
       "      <td>2017-01-06</td>\n",
       "      <td>NaN</td>\n",
       "      <td>NaN</td>\n",
       "      <td>New York Times</td>\n",
       "      <td>Tyrus Wong, ‘Bambi’ Artist Thwarted by Racial ...</td>\n",
       "      <td>NaN</td>\n",
       "      <td>NaN</td>\n",
       "    </tr>\n",
       "    <tr>\n",
       "      <th>3</th>\n",
       "      <td>NaN</td>\n",
       "      <td>NaN</td>\n",
       "      <td>Death may be the great equalizer, but it isn’t...</td>\n",
       "      <td>2017-04-10</td>\n",
       "      <td>NaN</td>\n",
       "      <td>NaN</td>\n",
       "      <td>New York Times</td>\n",
       "      <td>Among Deaths in 2016, a Heavy Toll in Pop Musi...</td>\n",
       "      <td>NaN</td>\n",
       "      <td>NaN</td>\n",
       "    </tr>\n",
       "    <tr>\n",
       "      <th>4</th>\n",
       "      <td>NaN</td>\n",
       "      <td>NaN</td>\n",
       "      <td>SEOUL, South Korea  —   North Korea’s leader, ...</td>\n",
       "      <td>2017-01-02</td>\n",
       "      <td>NaN</td>\n",
       "      <td>NaN</td>\n",
       "      <td>New York Times</td>\n",
       "      <td>Kim Jong-un Says North Korea Is Preparing to T...</td>\n",
       "      <td>NaN</td>\n",
       "      <td>NaN</td>\n",
       "    </tr>\n",
       "  </tbody>\n",
       "</table>\n",
       "</div>"
      ],
      "text/plain": [
       "   Unnamed: 0 author                                            content        date  id  month     publication                                              title  url  year\n",
       "0         NaN    NaN  WASHINGTON  —   Congressional Republicans have...  2016-12-31 NaN    NaN  New York Times  House Republicans Fret About Winning Their Hea...  NaN   NaN\n",
       "1         NaN    NaN  After the bullet shells get counted, the blood...  2017-06-19 NaN    NaN  New York Times  Rift Between Officers and Residents as Killing...  NaN   NaN\n",
       "2         NaN    NaN  When Walt Disney’s “Bambi” opened in 1942, cri...  2017-01-06 NaN    NaN  New York Times  Tyrus Wong, ‘Bambi’ Artist Thwarted by Racial ...  NaN   NaN\n",
       "3         NaN    NaN  Death may be the great equalizer, but it isn’t...  2017-04-10 NaN    NaN  New York Times  Among Deaths in 2016, a Heavy Toll in Pop Musi...  NaN   NaN\n",
       "4         NaN    NaN  SEOUL, South Korea  —   North Korea’s leader, ...  2017-01-02 NaN    NaN  New York Times  Kim Jong-un Says North Korea Is Preparing to T...  NaN   NaN"
      ]
     },
     "execution_count": 80,
     "metadata": {},
     "output_type": "execute_result"
    }
   ],
   "source": [
    "df_pre.head()"
   ]
  },
  {
   "cell_type": "code",
   "execution_count": 81,
   "metadata": {},
   "outputs": [],
   "source": [
    "df_pre.drop(['Unnamed: 0', 'id','author','year', 'month'],axis=1,inplace=True)"
   ]
  },
  {
   "cell_type": "code",
   "execution_count": 82,
   "metadata": {},
   "outputs": [
    {
     "data": {
      "text/html": [
       "<div>\n",
       "<style scoped>\n",
       "    .dataframe tbody tr th:only-of-type {\n",
       "        vertical-align: middle;\n",
       "    }\n",
       "\n",
       "    .dataframe tbody tr th {\n",
       "        vertical-align: top;\n",
       "    }\n",
       "\n",
       "    .dataframe thead th {\n",
       "        text-align: right;\n",
       "    }\n",
       "</style>\n",
       "<table border=\"1\" class=\"dataframe\">\n",
       "  <thead>\n",
       "    <tr style=\"text-align: right;\">\n",
       "      <th></th>\n",
       "      <th>content</th>\n",
       "      <th>date</th>\n",
       "      <th>publication</th>\n",
       "      <th>title</th>\n",
       "      <th>url</th>\n",
       "    </tr>\n",
       "  </thead>\n",
       "  <tbody>\n",
       "    <tr>\n",
       "      <th>0</th>\n",
       "      <td>WASHINGTON  —   Congressional Republicans have...</td>\n",
       "      <td>2016-12-31</td>\n",
       "      <td>New York Times</td>\n",
       "      <td>House Republicans Fret About Winning Their Hea...</td>\n",
       "      <td>NaN</td>\n",
       "    </tr>\n",
       "    <tr>\n",
       "      <th>1</th>\n",
       "      <td>After the bullet shells get counted, the blood...</td>\n",
       "      <td>2017-06-19</td>\n",
       "      <td>New York Times</td>\n",
       "      <td>Rift Between Officers and Residents as Killing...</td>\n",
       "      <td>NaN</td>\n",
       "    </tr>\n",
       "    <tr>\n",
       "      <th>2</th>\n",
       "      <td>When Walt Disney’s “Bambi” opened in 1942, cri...</td>\n",
       "      <td>2017-01-06</td>\n",
       "      <td>New York Times</td>\n",
       "      <td>Tyrus Wong, ‘Bambi’ Artist Thwarted by Racial ...</td>\n",
       "      <td>NaN</td>\n",
       "    </tr>\n",
       "    <tr>\n",
       "      <th>3</th>\n",
       "      <td>Death may be the great equalizer, but it isn’t...</td>\n",
       "      <td>2017-04-10</td>\n",
       "      <td>New York Times</td>\n",
       "      <td>Among Deaths in 2016, a Heavy Toll in Pop Musi...</td>\n",
       "      <td>NaN</td>\n",
       "    </tr>\n",
       "    <tr>\n",
       "      <th>4</th>\n",
       "      <td>SEOUL, South Korea  —   North Korea’s leader, ...</td>\n",
       "      <td>2017-01-02</td>\n",
       "      <td>New York Times</td>\n",
       "      <td>Kim Jong-un Says North Korea Is Preparing to T...</td>\n",
       "      <td>NaN</td>\n",
       "    </tr>\n",
       "  </tbody>\n",
       "</table>\n",
       "</div>"
      ],
      "text/plain": [
       "                                             content        date     publication                                              title  url\n",
       "0  WASHINGTON  —   Congressional Republicans have...  2016-12-31  New York Times  House Republicans Fret About Winning Their Hea...  NaN\n",
       "1  After the bullet shells get counted, the blood...  2017-06-19  New York Times  Rift Between Officers and Residents as Killing...  NaN\n",
       "2  When Walt Disney’s “Bambi” opened in 1942, cri...  2017-01-06  New York Times  Tyrus Wong, ‘Bambi’ Artist Thwarted by Racial ...  NaN\n",
       "3  Death may be the great equalizer, but it isn’t...  2017-04-10  New York Times  Among Deaths in 2016, a Heavy Toll in Pop Musi...  NaN\n",
       "4  SEOUL, South Korea  —   North Korea’s leader, ...  2017-01-02  New York Times  Kim Jong-un Says North Korea Is Preparing to T...  NaN"
      ]
     },
     "execution_count": 82,
     "metadata": {},
     "output_type": "execute_result"
    }
   ],
   "source": [
    "df_pre.head()"
   ]
  },
  {
   "cell_type": "markdown",
   "metadata": {},
   "source": [
    "### Full df"
   ]
  },
  {
   "cell_type": "code",
   "execution_count": 83,
   "metadata": {},
   "outputs": [
    {
     "name": "stderr",
     "output_type": "stream",
     "text": [
      "/anaconda3/envs/Metis/lib/python3.7/site-packages/ipykernel_launcher.py:1: FutureWarning: Sorting because non-concatenation axis is not aligned. A future version\n",
      "of pandas will change to not sort by default.\n",
      "\n",
      "To accept the future behavior, pass 'sort=False'.\n",
      "\n",
      "To retain the current behavior and silence the warning, pass 'sort=True'.\n",
      "\n",
      "  \"\"\"Entry point for launching an IPython kernel.\n"
     ]
    }
   ],
   "source": [
    "df = pd.concat([df1,df_pre],axis=0)"
   ]
  },
  {
   "cell_type": "code",
   "execution_count": 85,
   "metadata": {},
   "outputs": [
    {
     "name": "stdout",
     "output_type": "stream",
     "text": [
      "<class 'pandas.core.frame.DataFrame'>\n",
      "Int64Index: 146394 entries, 0 to 42570\n",
      "Data columns (total 5 columns):\n",
      "content        146361 non-null object\n",
      "date           143753 non-null object\n",
      "publication    146394 non-null object\n",
      "title          146392 non-null object\n",
      "url            89383 non-null object\n",
      "dtypes: object(5)\n",
      "memory usage: 6.7+ MB\n"
     ]
    }
   ],
   "source": [
    "df.info()"
   ]
  },
  {
   "cell_type": "code",
   "execution_count": 96,
   "metadata": {},
   "outputs": [],
   "source": [
    "df['title+content'] = df[['title','content']].astype(str).apply(lambda x:' '.join(x),axis=1)"
   ]
  },
  {
   "cell_type": "code",
   "execution_count": 90,
   "metadata": {},
   "outputs": [
    {
     "data": {
      "text/plain": [
       "Breitbart              23781\n",
       "New York Post          17493\n",
       "CNN                    13993\n",
       "NPR                    11992\n",
       "Washington Post        11114\n",
       "Reuters                10710\n",
       "Guardian                8681\n",
       "New York Times          7803\n",
       "Atlantic                7179\n",
       "Business Insider        6757\n",
       "National Review         6203\n",
       "Talking Points Memo     5214\n",
       "Vox                     4947\n",
       "Buzzfeed News           4854\n",
       "Fox News                4354\n",
       "tass                     485\n",
       "abcnews                  474\n",
       "europe                   360\n",
       "Name: publication, dtype: int64"
      ]
     },
     "execution_count": 90,
     "metadata": {},
     "output_type": "execute_result"
    }
   ],
   "source": [
    "df['publication'].value_counts()"
   ]
  },
  {
   "cell_type": "code",
   "execution_count": 89,
   "metadata": {},
   "outputs": [],
   "source": [
    "df['publication'] = df['publication'].replace({'www':'CNN'})"
   ]
  },
  {
   "cell_type": "code",
   "execution_count": 100,
   "metadata": {},
   "outputs": [],
   "source": [
    "df[['content','publication','title+content']] = df[['content','publication','title+content']].astype('str')"
   ]
  },
  {
   "cell_type": "code",
   "execution_count": 115,
   "metadata": {},
   "outputs": [],
   "source": [
    "df['content'] = df['content'].astype('str')"
   ]
  },
  {
   "cell_type": "code",
   "execution_count": 121,
   "metadata": {},
   "outputs": [],
   "source": [
    "df['title'] = df['title'].astype('str')"
   ]
  },
  {
   "cell_type": "code",
   "execution_count": 116,
   "metadata": {},
   "outputs": [
    {
     "name": "stdout",
     "output_type": "stream",
     "text": [
      "<class 'pandas.core.frame.DataFrame'>\n",
      "Int64Index: 146394 entries, 0 to 42570\n",
      "Data columns (total 6 columns):\n",
      "content          146394 non-null object\n",
      "date             143753 non-null object\n",
      "publication      146394 non-null object\n",
      "title            146392 non-null object\n",
      "url              146394 non-null object\n",
      "title+content    146394 non-null object\n",
      "dtypes: object(6)\n",
      "memory usage: 7.8+ MB\n"
     ]
    }
   ],
   "source": [
    "df.info()"
   ]
  },
  {
   "cell_type": "code",
   "execution_count": 105,
   "metadata": {},
   "outputs": [],
   "source": [
    "df['url'] = df['url'].fillna('No url')"
   ]
  },
  {
   "cell_type": "markdown",
   "metadata": {},
   "source": [
    "### Processing text data "
   ]
  },
  {
   "cell_type": "code",
   "execution_count": 122,
   "metadata": {},
   "outputs": [],
   "source": [
    "import re \n",
    "import string "
   ]
  },
  {
   "cell_type": "code",
   "execution_count": 123,
   "metadata": {},
   "outputs": [],
   "source": [
    "alphanumeric = lambda x: re.sub('\\w*\\d\\w*', ' ', x)\n",
    "punc_lower = lambda x: re.sub('[%s]' % re.escape(string.punctuation), ' ', x.lower())"
   ]
  },
  {
   "cell_type": "code",
   "execution_count": 118,
   "metadata": {},
   "outputs": [],
   "source": [
    "df['content'] = df['content'].map(alphanumeric).map(punc_lower)"
   ]
  },
  {
   "cell_type": "code",
   "execution_count": 124,
   "metadata": {},
   "outputs": [],
   "source": [
    "df['title'] = df['title'].map(alphanumeric).map(punc_lower)"
   ]
  },
  {
   "cell_type": "code",
   "execution_count": 125,
   "metadata": {},
   "outputs": [],
   "source": [
    "df['title+content'] = df['title+content'].map(alphanumeric).map(punc_lower)"
   ]
  },
  {
   "cell_type": "markdown",
   "metadata": {},
   "source": [
    "### LSTM Modeling "
   ]
  },
  {
   "cell_type": "code",
   "execution_count": 133,
   "metadata": {},
   "outputs": [],
   "source": [
    "from keras.preprocessing.sequence import pad_sequences"
   ]
  },
  {
   "cell_type": "code",
   "execution_count": 136,
   "metadata": {},
   "outputs": [],
   "source": [
    "from sklearn.model_selection import train_test_split"
   ]
  },
  {
   "cell_type": "code",
   "execution_count": 147,
   "metadata": {},
   "outputs": [],
   "source": [
    "from keras.layers import SpatialDropout1D\n",
    "from keras.callbacks import EarlyStopping\n"
   ]
  },
  {
   "cell_type": "code",
   "execution_count": 188,
   "metadata": {},
   "outputs": [],
   "source": [
    "# The maximum number of words to be used. (most frequent)\n",
    "# Max number of words in each complaint.\n",
    "MAX_SEQUENCE_LENGTH = 250\n",
    "# This is fixed.\n",
    "EMBEDDING_DIM = 100\n",
    "MAX_NB_WORDS = 20000\n"
   ]
  },
  {
   "cell_type": "code",
   "execution_count": 189,
   "metadata": {},
   "outputs": [],
   "source": [
    "tokenizer = Tokenizer(num_words = MAX_NB_WORDS, filters=\"\"\"!\"#$%&()*+,-./:;<=>?@[\\\\]^_`{|}~\\t\\n',\"\"\")\n",
    "tokenizer.fit_on_texts(df['title+content'].values)\n",
    "word_index = tokenizer.word_index"
   ]
  },
  {
   "cell_type": "code",
   "execution_count": 190,
   "metadata": {},
   "outputs": [],
   "source": [
    "# Convert tokenized sentences to sequence format\n",
    "X = tokenizer.texts_to_sequences(df['title+content'])\n",
    "X = pad_sequences(X, maxlen=MAX_SEQUENCE_LENGTH)"
   ]
  },
  {
   "cell_type": "code",
   "execution_count": 191,
   "metadata": {},
   "outputs": [],
   "source": [
    "Y = pd.get_dummies(df['publication']).values"
   ]
  },
  {
   "cell_type": "code",
   "execution_count": 192,
   "metadata": {},
   "outputs": [
    {
     "name": "stdout",
     "output_type": "stream",
     "text": [
      "(117115, 250) (117115, 18)\n",
      "(29279, 250) (29279, 18)\n"
     ]
    }
   ],
   "source": [
    "X_train, X_test, Y_train, Y_test = train_test_split(X,Y, test_size = 0.20)\n",
    "print(X_train.shape,Y_train.shape)\n",
    "print(X_test.shape,Y_test.shape)"
   ]
  },
  {
   "cell_type": "code",
   "execution_count": 196,
   "metadata": {},
   "outputs": [
    {
     "name": "stdout",
     "output_type": "stream",
     "text": [
      "_________________________________________________________________\n",
      "Layer (type)                 Output Shape              Param #   \n",
      "=================================================================\n",
      "embedding_14 (Embedding)     (None, 250, 12)           240000    \n",
      "_________________________________________________________________\n",
      "spatial_dropout1d_13 (Spatia (None, 250, 12)           0         \n",
      "_________________________________________________________________\n",
      "lstm_13 (LSTM)               (None, 100)               45200     \n",
      "_________________________________________________________________\n",
      "dense_13 (Dense)             (None, 18)                1818      \n",
      "=================================================================\n",
      "Total params: 287,018\n",
      "Trainable params: 287,018\n",
      "Non-trainable params: 0\n",
      "_________________________________________________________________\n"
     ]
    }
   ],
   "source": [
    "model = Sequential()\n",
    "model.add(Embedding(input_dim=MAX_NB_WORDS, output_dim=12, embeddings_initializer='glorot_uniform', input_length=MAX_SEQUENCE_LENGTH))\n",
    "model.add(SpatialDropout1D(0.2))\n",
    "\n",
    "model.add(LSTM(100, dropout=0.2, recurrent_dropout=0.2))\n",
    "model.add(Dense(18, activation='softmax'))\n",
    "model.compile(loss='categorical_crossentropy',\n",
    "                  optimizer='adam',\n",
    "                  metrics=['accuracy'])\n",
    "\n",
    "model.summary()"
   ]
  },
  {
   "cell_type": "code",
   "execution_count": 197,
   "metadata": {},
   "outputs": [
    {
     "name": "stdout",
     "output_type": "stream",
     "text": [
      "Train on 117115 samples, validate on 29279 samples\n",
      "Epoch 1/1\n",
      "117115/117115 [==============================] - 1419s 12ms/step - loss: 2.2034 - acc: 0.2912 - val_loss: 1.8721 - val_acc: 0.3834\n"
     ]
    },
    {
     "data": {
      "text/plain": [
       "<keras.callbacks.History at 0x1a60900450>"
      ]
     },
     "execution_count": 197,
     "metadata": {},
     "output_type": "execute_result"
    }
   ],
   "source": [
    "epochs = 1\n",
    "batch_size = 64\n",
    "\n",
    "\n",
    "model.fit(X_train, Y_train, batch_size=256, epochs=epochs, \n",
    "              validation_data=(X_test, Y_test),callbacks=[EarlyStopping(monitor='val_loss', patience=3, min_delta=0.0001)])\n"
   ]
  },
  {
   "cell_type": "code",
   "execution_count": null,
   "metadata": {},
   "outputs": [],
   "source": []
  }
 ],
 "metadata": {
  "kernelspec": {
   "display_name": "metis",
   "language": "python",
   "name": "metis"
  },
  "language_info": {
   "codemirror_mode": {
    "name": "ipython",
    "version": 3
   },
   "file_extension": ".py",
   "mimetype": "text/x-python",
   "name": "python",
   "nbconvert_exporter": "python",
   "pygments_lexer": "ipython3",
   "version": "3.7.4"
  }
 },
 "nbformat": 4,
 "nbformat_minor": 2
}

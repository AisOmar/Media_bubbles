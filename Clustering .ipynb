{
  "nbformat": 4,
  "nbformat_minor": 0,
  "metadata": {
    "kernelspec": {
      "display_name": "metis",
      "language": "python",
      "name": "metis"
    },
    "language_info": {
      "codemirror_mode": {
        "name": "ipython",
        "version": 3
      },
      "file_extension": ".py",
      "mimetype": "text/x-python",
      "name": "python",
      "nbconvert_exporter": "python",
      "pygments_lexer": "ipython3",
      "version": "3.7.4"
    },
    "colab": {
      "name": "Clustering .ipynb",
      "provenance": [],
      "toc_visible": true,
      "include_colab_link": true
    },
    "accelerator": "GPU"
  },
  "cells": [
    {
      "cell_type": "markdown",
      "metadata": {
        "id": "view-in-github",
        "colab_type": "text"
      },
      "source": [
        "<a href=\"https://colab.research.google.com/github/AisOmar/Media_bubbles/blob/master/Clustering%20.ipynb\" target=\"_parent\"><img src=\"https://colab.research.google.com/assets/colab-badge.svg\" alt=\"Open In Colab\"/></a>"
      ]
    },
    {
      "cell_type": "markdown",
      "metadata": {
        "id": "IQ9A0UGJl39n",
        "colab_type": "text"
      },
      "source": [
        "### Imports"
      ]
    },
    {
      "cell_type": "code",
      "metadata": {
        "id": "2-G-Z75Ol39q",
        "colab_type": "code",
        "outputId": "dc63780c-c95f-41e6-a751-74c2214490c4",
        "colab": {
          "base_uri": "https://localhost:8080/",
          "height": 34
        }
      },
      "source": [
        "# see https://ipython.readthedocs.io/en/stable/interactive/magics.html\n",
        "%pylab inline\n",
        "\n",
        "# sets backend to render higher res images\n",
        "%config InlineBackend.figure_formats = ['retina']\n",
        "\n",
        "\n",
        "# uses custom metis style sheet for notebooks\n",
        "from IPython.core.display import HTML\n",
        "HTML(\"\"\"<link rel=\"stylesheet\" href=\"https://soph.info/metis/nb.css\" type=\"text/css\"/>\"\"\")\n",
        "\n",
        "#######################\n",
        "#       imports       #\n",
        "#######################\n",
        "import pandas as pd\n",
        "import seaborn as sns\n",
        "\n",
        "# import sklearn\n",
        "from sklearn.preprocessing import scale\n",
        "from sklearn.cluster import KMeans\n",
        "from sklearn.datasets import make_blobs\n",
        "from sklearn.datasets import fetch_mldata\n",
        "from sklearn.utils import shuffle"
      ],
      "execution_count": 1,
      "outputs": [
        {
          "output_type": "stream",
          "text": [
            "Populating the interactive namespace from numpy and matplotlib\n"
          ],
          "name": "stdout"
        }
      ]
    },
    {
      "cell_type": "code",
      "metadata": {
        "id": "5Mqf324il39v",
        "colab_type": "code",
        "colab": {
          "base_uri": "https://localhost:8080/",
          "height": 34
        },
        "outputId": "77b52249-062a-4d24-bdec-251e16623e2c"
      },
      "source": [
        "# gensim\n",
        "import gensim\n",
        "\n",
        "# keras\n",
        "from keras.models import Sequential\n",
        "from keras.layers import (Dense, Embedding, Reshape, Activation, \n",
        "                          SimpleRNN, LSTM, Convolution1D, \n",
        "                          MaxPooling1D, Dropout, Bidirectional)\n",
        "from keras.utils import np_utils\n",
        "from keras.utils.data_utils import get_file\n",
        "from keras.preprocessing.text import Tokenizer\n",
        "from keras.datasets import imdb, reuters\n",
        "from keras.preprocessing import sequence\n",
        "from keras.optimizers import SGD, RMSprop\n",
        "\n",
        "\n",
        "# logging for gensim (set to INFO)\n",
        "import logging\n",
        "logging.basicConfig(format='%(asctime)s : %(levelname)s : %(message)s', level=logging.INFO)"
      ],
      "execution_count": 2,
      "outputs": [
        {
          "output_type": "stream",
          "text": [
            "Using TensorFlow backend.\n"
          ],
          "name": "stderr"
        }
      ]
    },
    {
      "cell_type": "code",
      "metadata": {
        "id": "J0xzae_hl39y",
        "colab_type": "code",
        "colab": {}
      },
      "source": [
        "from sklearn.feature_extraction.text import TfidfVectorizer"
      ],
      "execution_count": 0,
      "outputs": []
    },
    {
      "cell_type": "code",
      "metadata": {
        "id": "fX0tWd3Tl390",
        "colab_type": "code",
        "colab": {}
      },
      "source": [
        "pd.set_option('display.max_rows', 500)\n",
        "pd.set_option('display.max_columns', 500)\n",
        "pd.set_option('display.width', 1000)"
      ],
      "execution_count": 0,
      "outputs": []
    },
    {
      "cell_type": "markdown",
      "metadata": {
        "id": "nIrZxflql393",
        "colab_type": "text"
      },
      "source": [
        "### Cleaning df1"
      ]
    },
    {
      "cell_type": "code",
      "metadata": {
        "id": "s85ltR00l393",
        "colab_type": "code",
        "colab": {}
      },
      "source": [
        "df1 = pd.read_csv('NewsArticles.csv',encoding='latin1')"
      ],
      "execution_count": 0,
      "outputs": []
    },
    {
      "cell_type": "code",
      "metadata": {
        "id": "79wLVkvIl396",
        "colab_type": "code",
        "colab": {}
      },
      "source": [
        "df1 = df1[['article_id', 'publish_date', 'article_source_link', 'title',\n",
        "       'subtitle', 'text']]"
      ],
      "execution_count": 0,
      "outputs": []
    },
    {
      "cell_type": "code",
      "metadata": {
        "id": "pDjuOpZCl39_",
        "colab_type": "code",
        "outputId": "829b88db-9f11-4329-ff80-ab03fcdbf4d4",
        "colab": {
          "base_uri": "https://localhost:8080/",
          "height": 289
        }
      },
      "source": [
        "df1.head()"
      ],
      "execution_count": 7,
      "outputs": [
        {
          "output_type": "execute_result",
          "data": {
            "text/html": [
              "<div>\n",
              "<style scoped>\n",
              "    .dataframe tbody tr th:only-of-type {\n",
              "        vertical-align: middle;\n",
              "    }\n",
              "\n",
              "    .dataframe tbody tr th {\n",
              "        vertical-align: top;\n",
              "    }\n",
              "\n",
              "    .dataframe thead th {\n",
              "        text-align: right;\n",
              "    }\n",
              "</style>\n",
              "<table border=\"1\" class=\"dataframe\">\n",
              "  <thead>\n",
              "    <tr style=\"text-align: right;\">\n",
              "      <th></th>\n",
              "      <th>article_id</th>\n",
              "      <th>publish_date</th>\n",
              "      <th>article_source_link</th>\n",
              "      <th>title</th>\n",
              "      <th>subtitle</th>\n",
              "      <th>text</th>\n",
              "    </tr>\n",
              "  </thead>\n",
              "  <tbody>\n",
              "    <tr>\n",
              "      <th>0</th>\n",
              "      <td>1</td>\n",
              "      <td>2017/2/7</td>\n",
              "      <td>http://abcnews.go.com/Politics/pence-break-tie...</td>\n",
              "      <td>Betsy DeVos Confirmed as Education Secretary, ...</td>\n",
              "      <td>NaN</td>\n",
              "      <td>Michigan billionaire education activist Betsy ...</td>\n",
              "    </tr>\n",
              "    <tr>\n",
              "      <th>1</th>\n",
              "      <td>2</td>\n",
              "      <td>2017/2/7</td>\n",
              "      <td>http://abcnews.go.com/Politics/wireStory/melan...</td>\n",
              "      <td>Melania Trump Says White House Could Mean Mill...</td>\n",
              "      <td>NaN</td>\n",
              "      <td>First lady Melania Trump has said little about...</td>\n",
              "    </tr>\n",
              "    <tr>\n",
              "      <th>2</th>\n",
              "      <td>3</td>\n",
              "      <td>2017/2/7</td>\n",
              "      <td>http://abcnews.go.com/Politics/wireStory/trump...</td>\n",
              "      <td>As Trump Fears Fraud, GOP Eliminates Election ...</td>\n",
              "      <td>NaN</td>\n",
              "      <td>A House committee voted on Tuesday to eliminat...</td>\n",
              "    </tr>\n",
              "    <tr>\n",
              "      <th>3</th>\n",
              "      <td>4</td>\n",
              "      <td>2017/2/7</td>\n",
              "      <td>http://abcnews.go.com/Politics/appeals-court-d...</td>\n",
              "      <td>Appeals Court to Decide on Challenge to Trump'...</td>\n",
              "      <td>NaN</td>\n",
              "      <td>This afternoon, three federal judges from the ...</td>\n",
              "    </tr>\n",
              "    <tr>\n",
              "      <th>4</th>\n",
              "      <td>5</td>\n",
              "      <td>2017/2/7</td>\n",
              "      <td>http://abcnews.go.com/US/23-states-winter-weat...</td>\n",
              "      <td>At Least 4 Tornadoes Reported in Southeast Lou...</td>\n",
              "      <td>NaN</td>\n",
              "      <td>At least four tornadoes touched down in Louisi...</td>\n",
              "    </tr>\n",
              "  </tbody>\n",
              "</table>\n",
              "</div>"
            ],
            "text/plain": [
              "   article_id publish_date                                article_source_link                                              title subtitle                                               text\n",
              "0           1     2017/2/7  http://abcnews.go.com/Politics/pence-break-tie...  Betsy DeVos Confirmed as Education Secretary, ...      NaN  Michigan billionaire education activist Betsy ...\n",
              "1           2     2017/2/7  http://abcnews.go.com/Politics/wireStory/melan...  Melania Trump Says White House Could Mean Mill...      NaN  First lady Melania Trump has said little about...\n",
              "2           3     2017/2/7  http://abcnews.go.com/Politics/wireStory/trump...  As Trump Fears Fraud, GOP Eliminates Election ...      NaN  A House committee voted on Tuesday to eliminat...\n",
              "3           4     2017/2/7  http://abcnews.go.com/Politics/appeals-court-d...  Appeals Court to Decide on Challenge to Trump'...      NaN  This afternoon, three federal judges from the ...\n",
              "4           5     2017/2/7  http://abcnews.go.com/US/23-states-winter-weat...  At Least 4 Tornadoes Reported in Southeast Lou...      NaN  At least four tornadoes touched down in Louisi..."
            ]
          },
          "metadata": {
            "tags": []
          },
          "execution_count": 7
        }
      ]
    },
    {
      "cell_type": "code",
      "metadata": {
        "colab_type": "code",
        "outputId": "b317b916-4e5d-4941-abab-e15f0d175c0a",
        "id": "zuqlzR_MLWkJ",
        "colab": {
          "base_uri": "https://localhost:8080/",
          "height": 34
        }
      },
      "source": [
        "df1['article_source_link'][1].split('/')[2].split('.')[0]"
      ],
      "execution_count": 8,
      "outputs": [
        {
          "output_type": "execute_result",
          "data": {
            "text/plain": [
              "'abcnews'"
            ]
          },
          "metadata": {
            "tags": []
          },
          "execution_count": 8
        }
      ]
    },
    {
      "cell_type": "code",
      "metadata": {
        "id": "R9SX7l-jl3-I",
        "colab_type": "code",
        "colab": {}
      },
      "source": [
        "df1['pub'] = df1['article_source_link'].str.split('//').str[1]"
      ],
      "execution_count": 0,
      "outputs": []
    },
    {
      "cell_type": "code",
      "metadata": {
        "id": "ADcId-54l3-P",
        "colab_type": "code",
        "colab": {}
      },
      "source": [
        "df1['pub2'] = df1['pub'].str.split('.').str[0]"
      ],
      "execution_count": 0,
      "outputs": []
    },
    {
      "cell_type": "code",
      "metadata": {
        "id": "P0i7G1ell3-T",
        "colab_type": "code",
        "colab": {}
      },
      "source": [
        "df1.drop(['pub'],axis=1,inplace=True)"
      ],
      "execution_count": 0,
      "outputs": []
    },
    {
      "cell_type": "code",
      "metadata": {
        "colab_type": "code",
        "id": "_NcNoQYlLV6K",
        "colab": {}
      },
      "source": [
        "df1.rename({'pub2':'publication','publish_date':'date','article_source_link':'url','text':'content'},axis=1,inplace=True)"
      ],
      "execution_count": 0,
      "outputs": []
    },
    {
      "cell_type": "code",
      "metadata": {
        "colab_type": "code",
        "id": "av6dKDIvLVXy",
        "colab": {}
      },
      "source": [
        "df1.drop(['article_id'],axis=1,inplace=True)"
      ],
      "execution_count": 0,
      "outputs": []
    },
    {
      "cell_type": "code",
      "metadata": {
        "colab_type": "code",
        "id": "PrDlBI2pLU21",
        "colab": {}
      },
      "source": [
        "df1['title1'] = df1[['title','subtitle']].astype(str).apply(lambda x:' '.join(x),axis=1)"
      ],
      "execution_count": 0,
      "outputs": []
    },
    {
      "cell_type": "code",
      "metadata": {
        "id": "gB4vVENll3-m",
        "colab_type": "code",
        "colab": {}
      },
      "source": [
        "df1.drop(['title','subtitle'],axis=1,inplace=True)"
      ],
      "execution_count": 0,
      "outputs": []
    },
    {
      "cell_type": "code",
      "metadata": {
        "id": "3nUNf0_Hl3-w",
        "colab_type": "code",
        "outputId": "c9a6f93a-b2c9-49f3-b343-2f728e6be321",
        "colab": {
          "base_uri": "https://localhost:8080/",
          "height": 204
        }
      },
      "source": [
        "df1.head()"
      ],
      "execution_count": 16,
      "outputs": [
        {
          "output_type": "execute_result",
          "data": {
            "text/html": [
              "<div>\n",
              "<style scoped>\n",
              "    .dataframe tbody tr th:only-of-type {\n",
              "        vertical-align: middle;\n",
              "    }\n",
              "\n",
              "    .dataframe tbody tr th {\n",
              "        vertical-align: top;\n",
              "    }\n",
              "\n",
              "    .dataframe thead th {\n",
              "        text-align: right;\n",
              "    }\n",
              "</style>\n",
              "<table border=\"1\" class=\"dataframe\">\n",
              "  <thead>\n",
              "    <tr style=\"text-align: right;\">\n",
              "      <th></th>\n",
              "      <th>date</th>\n",
              "      <th>url</th>\n",
              "      <th>content</th>\n",
              "      <th>publication</th>\n",
              "      <th>title1</th>\n",
              "    </tr>\n",
              "  </thead>\n",
              "  <tbody>\n",
              "    <tr>\n",
              "      <th>0</th>\n",
              "      <td>2017/2/7</td>\n",
              "      <td>http://abcnews.go.com/Politics/pence-break-tie...</td>\n",
              "      <td>Michigan billionaire education activist Betsy ...</td>\n",
              "      <td>abcnews</td>\n",
              "      <td>Betsy DeVos Confirmed as Education Secretary, ...</td>\n",
              "    </tr>\n",
              "    <tr>\n",
              "      <th>1</th>\n",
              "      <td>2017/2/7</td>\n",
              "      <td>http://abcnews.go.com/Politics/wireStory/melan...</td>\n",
              "      <td>First lady Melania Trump has said little about...</td>\n",
              "      <td>abcnews</td>\n",
              "      <td>Melania Trump Says White House Could Mean Mill...</td>\n",
              "    </tr>\n",
              "    <tr>\n",
              "      <th>2</th>\n",
              "      <td>2017/2/7</td>\n",
              "      <td>http://abcnews.go.com/Politics/wireStory/trump...</td>\n",
              "      <td>A House committee voted on Tuesday to eliminat...</td>\n",
              "      <td>abcnews</td>\n",
              "      <td>As Trump Fears Fraud, GOP Eliminates Election ...</td>\n",
              "    </tr>\n",
              "    <tr>\n",
              "      <th>3</th>\n",
              "      <td>2017/2/7</td>\n",
              "      <td>http://abcnews.go.com/Politics/appeals-court-d...</td>\n",
              "      <td>This afternoon, three federal judges from the ...</td>\n",
              "      <td>abcnews</td>\n",
              "      <td>Appeals Court to Decide on Challenge to Trump'...</td>\n",
              "    </tr>\n",
              "    <tr>\n",
              "      <th>4</th>\n",
              "      <td>2017/2/7</td>\n",
              "      <td>http://abcnews.go.com/US/23-states-winter-weat...</td>\n",
              "      <td>At least four tornadoes touched down in Louisi...</td>\n",
              "      <td>abcnews</td>\n",
              "      <td>At Least 4 Tornadoes Reported in Southeast Lou...</td>\n",
              "    </tr>\n",
              "  </tbody>\n",
              "</table>\n",
              "</div>"
            ],
            "text/plain": [
              "       date                                                url                                            content publication                                             title1\n",
              "0  2017/2/7  http://abcnews.go.com/Politics/pence-break-tie...  Michigan billionaire education activist Betsy ...     abcnews  Betsy DeVos Confirmed as Education Secretary, ...\n",
              "1  2017/2/7  http://abcnews.go.com/Politics/wireStory/melan...  First lady Melania Trump has said little about...     abcnews  Melania Trump Says White House Could Mean Mill...\n",
              "2  2017/2/7  http://abcnews.go.com/Politics/wireStory/trump...  A House committee voted on Tuesday to eliminat...     abcnews  As Trump Fears Fraud, GOP Eliminates Election ...\n",
              "3  2017/2/7  http://abcnews.go.com/Politics/appeals-court-d...  This afternoon, three federal judges from the ...     abcnews  Appeals Court to Decide on Challenge to Trump'...\n",
              "4  2017/2/7  http://abcnews.go.com/US/23-states-winter-weat...  At least four tornadoes touched down in Louisi...     abcnews  At Least 4 Tornadoes Reported in Southeast Lou..."
            ]
          },
          "metadata": {
            "tags": []
          },
          "execution_count": 16
        }
      ]
    },
    {
      "cell_type": "markdown",
      "metadata": {
        "id": "YoAdK19Ql3-2",
        "colab_type": "text"
      },
      "source": [
        "### Cleaning the rest if dfs"
      ]
    },
    {
      "cell_type": "code",
      "metadata": {
        "id": "lcavCd2tl3-5",
        "colab_type": "code",
        "colab": {}
      },
      "source": [
        "df2 = pd.read_csv('articles1.csv')"
      ],
      "execution_count": 0,
      "outputs": []
    },
    {
      "cell_type": "code",
      "metadata": {
        "id": "0rrG104cl3_B",
        "colab_type": "code",
        "colab": {}
      },
      "source": [
        "df3 = pd.read_csv('articles2.csv')"
      ],
      "execution_count": 0,
      "outputs": []
    },
    {
      "cell_type": "code",
      "metadata": {
        "id": "PxjJIa1vl3_K",
        "colab_type": "code",
        "colab": {}
      },
      "source": [
        "df4 = pd.read_csv('articles3.csv')"
      ],
      "execution_count": 0,
      "outputs": []
    },
    {
      "cell_type": "code",
      "metadata": {
        "id": "Y4YvVV9Nl3_R",
        "colab_type": "code",
        "colab": {}
      },
      "source": [
        "df_pre = pd.concat([df2,df3,df4],axis=0)"
      ],
      "execution_count": 0,
      "outputs": []
    },
    {
      "cell_type": "code",
      "metadata": {
        "id": "i1vYiz6bl3_U",
        "colab_type": "code",
        "outputId": "a8e0733e-3c4f-42cd-9904-6aae28521929",
        "colab": {
          "base_uri": "https://localhost:8080/",
          "height": 0
        }
      },
      "source": [
        "df_pre.head()"
      ],
      "execution_count": 21,
      "outputs": [
        {
          "output_type": "execute_result",
          "data": {
            "text/html": [
              "<div>\n",
              "<style scoped>\n",
              "    .dataframe tbody tr th:only-of-type {\n",
              "        vertical-align: middle;\n",
              "    }\n",
              "\n",
              "    .dataframe tbody tr th {\n",
              "        vertical-align: top;\n",
              "    }\n",
              "\n",
              "    .dataframe thead th {\n",
              "        text-align: right;\n",
              "    }\n",
              "</style>\n",
              "<table border=\"1\" class=\"dataframe\">\n",
              "  <thead>\n",
              "    <tr style=\"text-align: right;\">\n",
              "      <th></th>\n",
              "      <th>Unnamed: 0</th>\n",
              "      <th>id</th>\n",
              "      <th>title</th>\n",
              "      <th>publication</th>\n",
              "      <th>author</th>\n",
              "      <th>date</th>\n",
              "      <th>year</th>\n",
              "      <th>month</th>\n",
              "      <th>url</th>\n",
              "      <th>content</th>\n",
              "    </tr>\n",
              "  </thead>\n",
              "  <tbody>\n",
              "    <tr>\n",
              "      <th>0</th>\n",
              "      <td>0</td>\n",
              "      <td>17283</td>\n",
              "      <td>House Republicans Fret About Winning Their Hea...</td>\n",
              "      <td>New York Times</td>\n",
              "      <td>Carl Hulse</td>\n",
              "      <td>2016-12-31</td>\n",
              "      <td>2016.0</td>\n",
              "      <td>12.0</td>\n",
              "      <td>NaN</td>\n",
              "      <td>WASHINGTON  —   Congressional Republicans have...</td>\n",
              "    </tr>\n",
              "    <tr>\n",
              "      <th>1</th>\n",
              "      <td>1</td>\n",
              "      <td>17284</td>\n",
              "      <td>Rift Between Officers and Residents as Killing...</td>\n",
              "      <td>New York Times</td>\n",
              "      <td>Benjamin Mueller and Al Baker</td>\n",
              "      <td>2017-06-19</td>\n",
              "      <td>2017.0</td>\n",
              "      <td>6.0</td>\n",
              "      <td>NaN</td>\n",
              "      <td>After the bullet shells get counted, the blood...</td>\n",
              "    </tr>\n",
              "    <tr>\n",
              "      <th>2</th>\n",
              "      <td>2</td>\n",
              "      <td>17285</td>\n",
              "      <td>Tyrus Wong, ‘Bambi’ Artist Thwarted by Racial ...</td>\n",
              "      <td>New York Times</td>\n",
              "      <td>Margalit Fox</td>\n",
              "      <td>2017-01-06</td>\n",
              "      <td>2017.0</td>\n",
              "      <td>1.0</td>\n",
              "      <td>NaN</td>\n",
              "      <td>When Walt Disney’s “Bambi” opened in 1942, cri...</td>\n",
              "    </tr>\n",
              "    <tr>\n",
              "      <th>3</th>\n",
              "      <td>3</td>\n",
              "      <td>17286</td>\n",
              "      <td>Among Deaths in 2016, a Heavy Toll in Pop Musi...</td>\n",
              "      <td>New York Times</td>\n",
              "      <td>William McDonald</td>\n",
              "      <td>2017-04-10</td>\n",
              "      <td>2017.0</td>\n",
              "      <td>4.0</td>\n",
              "      <td>NaN</td>\n",
              "      <td>Death may be the great equalizer, but it isn’t...</td>\n",
              "    </tr>\n",
              "    <tr>\n",
              "      <th>4</th>\n",
              "      <td>4</td>\n",
              "      <td>17287</td>\n",
              "      <td>Kim Jong-un Says North Korea Is Preparing to T...</td>\n",
              "      <td>New York Times</td>\n",
              "      <td>Choe Sang-Hun</td>\n",
              "      <td>2017-01-02</td>\n",
              "      <td>2017.0</td>\n",
              "      <td>1.0</td>\n",
              "      <td>NaN</td>\n",
              "      <td>SEOUL, South Korea  —   North Korea’s leader, ...</td>\n",
              "    </tr>\n",
              "  </tbody>\n",
              "</table>\n",
              "</div>"
            ],
            "text/plain": [
              "   Unnamed: 0     id                                              title     publication                         author        date    year  month  url                                            content\n",
              "0           0  17283  House Republicans Fret About Winning Their Hea...  New York Times                     Carl Hulse  2016-12-31  2016.0   12.0  NaN  WASHINGTON  —   Congressional Republicans have...\n",
              "1           1  17284  Rift Between Officers and Residents as Killing...  New York Times  Benjamin Mueller and Al Baker  2017-06-19  2017.0    6.0  NaN  After the bullet shells get counted, the blood...\n",
              "2           2  17285  Tyrus Wong, ‘Bambi’ Artist Thwarted by Racial ...  New York Times                   Margalit Fox  2017-01-06  2017.0    1.0  NaN  When Walt Disney’s “Bambi” opened in 1942, cri...\n",
              "3           3  17286  Among Deaths in 2016, a Heavy Toll in Pop Musi...  New York Times               William McDonald  2017-04-10  2017.0    4.0  NaN  Death may be the great equalizer, but it isn’t...\n",
              "4           4  17287  Kim Jong-un Says North Korea Is Preparing to T...  New York Times                  Choe Sang-Hun  2017-01-02  2017.0    1.0  NaN  SEOUL, South Korea  —   North Korea’s leader, ..."
            ]
          },
          "metadata": {
            "tags": []
          },
          "execution_count": 21
        }
      ]
    },
    {
      "cell_type": "code",
      "metadata": {
        "id": "lWOT9bVcl3_X",
        "colab_type": "code",
        "colab": {}
      },
      "source": [
        "df_pre.drop(['Unnamed: 0', 'id','author','year', 'month'],axis=1,inplace=True)"
      ],
      "execution_count": 0,
      "outputs": []
    },
    {
      "cell_type": "code",
      "metadata": {
        "id": "r024goFkl3_a",
        "colab_type": "code",
        "outputId": "c0a0c85c-3419-43ca-865d-9687e2de1ca2",
        "colab": {
          "base_uri": "https://localhost:8080/",
          "height": 0
        }
      },
      "source": [
        "df_pre.head()"
      ],
      "execution_count": 23,
      "outputs": [
        {
          "output_type": "execute_result",
          "data": {
            "text/html": [
              "<div>\n",
              "<style scoped>\n",
              "    .dataframe tbody tr th:only-of-type {\n",
              "        vertical-align: middle;\n",
              "    }\n",
              "\n",
              "    .dataframe tbody tr th {\n",
              "        vertical-align: top;\n",
              "    }\n",
              "\n",
              "    .dataframe thead th {\n",
              "        text-align: right;\n",
              "    }\n",
              "</style>\n",
              "<table border=\"1\" class=\"dataframe\">\n",
              "  <thead>\n",
              "    <tr style=\"text-align: right;\">\n",
              "      <th></th>\n",
              "      <th>title</th>\n",
              "      <th>publication</th>\n",
              "      <th>date</th>\n",
              "      <th>url</th>\n",
              "      <th>content</th>\n",
              "    </tr>\n",
              "  </thead>\n",
              "  <tbody>\n",
              "    <tr>\n",
              "      <th>0</th>\n",
              "      <td>House Republicans Fret About Winning Their Hea...</td>\n",
              "      <td>New York Times</td>\n",
              "      <td>2016-12-31</td>\n",
              "      <td>NaN</td>\n",
              "      <td>WASHINGTON  —   Congressional Republicans have...</td>\n",
              "    </tr>\n",
              "    <tr>\n",
              "      <th>1</th>\n",
              "      <td>Rift Between Officers and Residents as Killing...</td>\n",
              "      <td>New York Times</td>\n",
              "      <td>2017-06-19</td>\n",
              "      <td>NaN</td>\n",
              "      <td>After the bullet shells get counted, the blood...</td>\n",
              "    </tr>\n",
              "    <tr>\n",
              "      <th>2</th>\n",
              "      <td>Tyrus Wong, ‘Bambi’ Artist Thwarted by Racial ...</td>\n",
              "      <td>New York Times</td>\n",
              "      <td>2017-01-06</td>\n",
              "      <td>NaN</td>\n",
              "      <td>When Walt Disney’s “Bambi” opened in 1942, cri...</td>\n",
              "    </tr>\n",
              "    <tr>\n",
              "      <th>3</th>\n",
              "      <td>Among Deaths in 2016, a Heavy Toll in Pop Musi...</td>\n",
              "      <td>New York Times</td>\n",
              "      <td>2017-04-10</td>\n",
              "      <td>NaN</td>\n",
              "      <td>Death may be the great equalizer, but it isn’t...</td>\n",
              "    </tr>\n",
              "    <tr>\n",
              "      <th>4</th>\n",
              "      <td>Kim Jong-un Says North Korea Is Preparing to T...</td>\n",
              "      <td>New York Times</td>\n",
              "      <td>2017-01-02</td>\n",
              "      <td>NaN</td>\n",
              "      <td>SEOUL, South Korea  —   North Korea’s leader, ...</td>\n",
              "    </tr>\n",
              "  </tbody>\n",
              "</table>\n",
              "</div>"
            ],
            "text/plain": [
              "                                               title     publication        date  url                                            content\n",
              "0  House Republicans Fret About Winning Their Hea...  New York Times  2016-12-31  NaN  WASHINGTON  —   Congressional Republicans have...\n",
              "1  Rift Between Officers and Residents as Killing...  New York Times  2017-06-19  NaN  After the bullet shells get counted, the blood...\n",
              "2  Tyrus Wong, ‘Bambi’ Artist Thwarted by Racial ...  New York Times  2017-01-06  NaN  When Walt Disney’s “Bambi” opened in 1942, cri...\n",
              "3  Among Deaths in 2016, a Heavy Toll in Pop Musi...  New York Times  2017-04-10  NaN  Death may be the great equalizer, but it isn’t...\n",
              "4  Kim Jong-un Says North Korea Is Preparing to T...  New York Times  2017-01-02  NaN  SEOUL, South Korea  —   North Korea’s leader, ..."
            ]
          },
          "metadata": {
            "tags": []
          },
          "execution_count": 23
        }
      ]
    },
    {
      "cell_type": "markdown",
      "metadata": {
        "id": "03shRWz5SBCO",
        "colab_type": "text"
      },
      "source": [
        ""
      ]
    },
    {
      "cell_type": "code",
      "metadata": {
        "id": "MfBFfZX2oSjc",
        "colab_type": "code",
        "outputId": "f9a26425-ae09-4f43-84b5-b0f1a505195f",
        "colab": {
          "base_uri": "https://localhost:8080/",
          "height": 0
        }
      },
      "source": [
        "df1.head()"
      ],
      "execution_count": 24,
      "outputs": [
        {
          "output_type": "execute_result",
          "data": {
            "text/html": [
              "<div>\n",
              "<style scoped>\n",
              "    .dataframe tbody tr th:only-of-type {\n",
              "        vertical-align: middle;\n",
              "    }\n",
              "\n",
              "    .dataframe tbody tr th {\n",
              "        vertical-align: top;\n",
              "    }\n",
              "\n",
              "    .dataframe thead th {\n",
              "        text-align: right;\n",
              "    }\n",
              "</style>\n",
              "<table border=\"1\" class=\"dataframe\">\n",
              "  <thead>\n",
              "    <tr style=\"text-align: right;\">\n",
              "      <th></th>\n",
              "      <th>date</th>\n",
              "      <th>url</th>\n",
              "      <th>content</th>\n",
              "      <th>publication</th>\n",
              "      <th>title1</th>\n",
              "    </tr>\n",
              "  </thead>\n",
              "  <tbody>\n",
              "    <tr>\n",
              "      <th>0</th>\n",
              "      <td>2017/2/7</td>\n",
              "      <td>http://abcnews.go.com/Politics/pence-break-tie...</td>\n",
              "      <td>Michigan billionaire education activist Betsy ...</td>\n",
              "      <td>abcnews</td>\n",
              "      <td>Betsy DeVos Confirmed as Education Secretary, ...</td>\n",
              "    </tr>\n",
              "    <tr>\n",
              "      <th>1</th>\n",
              "      <td>2017/2/7</td>\n",
              "      <td>http://abcnews.go.com/Politics/wireStory/melan...</td>\n",
              "      <td>First lady Melania Trump has said little about...</td>\n",
              "      <td>abcnews</td>\n",
              "      <td>Melania Trump Says White House Could Mean Mill...</td>\n",
              "    </tr>\n",
              "    <tr>\n",
              "      <th>2</th>\n",
              "      <td>2017/2/7</td>\n",
              "      <td>http://abcnews.go.com/Politics/wireStory/trump...</td>\n",
              "      <td>A House committee voted on Tuesday to eliminat...</td>\n",
              "      <td>abcnews</td>\n",
              "      <td>As Trump Fears Fraud, GOP Eliminates Election ...</td>\n",
              "    </tr>\n",
              "    <tr>\n",
              "      <th>3</th>\n",
              "      <td>2017/2/7</td>\n",
              "      <td>http://abcnews.go.com/Politics/appeals-court-d...</td>\n",
              "      <td>This afternoon, three federal judges from the ...</td>\n",
              "      <td>abcnews</td>\n",
              "      <td>Appeals Court to Decide on Challenge to Trump'...</td>\n",
              "    </tr>\n",
              "    <tr>\n",
              "      <th>4</th>\n",
              "      <td>2017/2/7</td>\n",
              "      <td>http://abcnews.go.com/US/23-states-winter-weat...</td>\n",
              "      <td>At least four tornadoes touched down in Louisi...</td>\n",
              "      <td>abcnews</td>\n",
              "      <td>At Least 4 Tornadoes Reported in Southeast Lou...</td>\n",
              "    </tr>\n",
              "  </tbody>\n",
              "</table>\n",
              "</div>"
            ],
            "text/plain": [
              "       date                                                url                                            content publication                                             title1\n",
              "0  2017/2/7  http://abcnews.go.com/Politics/pence-break-tie...  Michigan billionaire education activist Betsy ...     abcnews  Betsy DeVos Confirmed as Education Secretary, ...\n",
              "1  2017/2/7  http://abcnews.go.com/Politics/wireStory/melan...  First lady Melania Trump has said little about...     abcnews  Melania Trump Says White House Could Mean Mill...\n",
              "2  2017/2/7  http://abcnews.go.com/Politics/wireStory/trump...  A House committee voted on Tuesday to eliminat...     abcnews  As Trump Fears Fraud, GOP Eliminates Election ...\n",
              "3  2017/2/7  http://abcnews.go.com/Politics/appeals-court-d...  This afternoon, three federal judges from the ...     abcnews  Appeals Court to Decide on Challenge to Trump'...\n",
              "4  2017/2/7  http://abcnews.go.com/US/23-states-winter-weat...  At least four tornadoes touched down in Louisi...     abcnews  At Least 4 Tornadoes Reported in Southeast Lou..."
            ]
          },
          "metadata": {
            "tags": []
          },
          "execution_count": 24
        }
      ]
    },
    {
      "cell_type": "markdown",
      "metadata": {
        "id": "e92RaOlIl3_c",
        "colab_type": "text"
      },
      "source": [
        "### Full df"
      ]
    },
    {
      "cell_type": "code",
      "metadata": {
        "id": "_htZWuapl3_d",
        "colab_type": "code",
        "outputId": "8c008196-44d9-48c1-98a9-14ec01153f89",
        "colab": {
          "base_uri": "https://localhost:8080/",
          "height": 0
        }
      },
      "source": [
        "df = pd.concat([df1,df_pre],axis=0)"
      ],
      "execution_count": 25,
      "outputs": [
        {
          "output_type": "stream",
          "text": [
            "/usr/local/lib/python3.6/dist-packages/ipykernel_launcher.py:1: FutureWarning: Sorting because non-concatenation axis is not aligned. A future version\n",
            "of pandas will change to not sort by default.\n",
            "\n",
            "To accept the future behavior, pass 'sort=False'.\n",
            "\n",
            "To retain the current behavior and silence the warning, pass 'sort=True'.\n",
            "\n",
            "  \"\"\"Entry point for launching an IPython kernel.\n"
          ],
          "name": "stderr"
        }
      ]
    },
    {
      "cell_type": "code",
      "metadata": {
        "id": "vwaQfqy3l3_g",
        "colab_type": "code",
        "outputId": "dcdf5c60-f563-485d-8eb3-e23259f5f79f",
        "colab": {
          "base_uri": "https://localhost:8080/",
          "height": 0
        }
      },
      "source": [
        "df.info()"
      ],
      "execution_count": 26,
      "outputs": [
        {
          "output_type": "stream",
          "text": [
            "<class 'pandas.core.frame.DataFrame'>\n",
            "Int64Index: 146394 entries, 0 to 42570\n",
            "Data columns (total 6 columns):\n",
            "content        146361 non-null object\n",
            "date           143753 non-null object\n",
            "publication    146394 non-null object\n",
            "title          142568 non-null object\n",
            "title1         3824 non-null object\n",
            "url            89383 non-null object\n",
            "dtypes: object(6)\n",
            "memory usage: 7.8+ MB\n"
          ],
          "name": "stdout"
        }
      ]
    },
    {
      "cell_type": "code",
      "metadata": {
        "id": "E1RPNiPAl3_j",
        "colab_type": "code",
        "colab": {}
      },
      "source": [
        "df['title+content'] = df[['title','content']].astype(str).apply(lambda x:' '.join(x),axis=1)"
      ],
      "execution_count": 0,
      "outputs": []
    },
    {
      "cell_type": "code",
      "metadata": {
        "id": "VttFjWOwl3_n",
        "colab_type": "code",
        "outputId": "50e7fd84-a0dd-4d73-81ec-4a19dc161dbc",
        "colab": {
          "base_uri": "https://localhost:8080/",
          "height": 0
        }
      },
      "source": [
        "df['publication'].value_counts()"
      ],
      "execution_count": 28,
      "outputs": [
        {
          "output_type": "execute_result",
          "data": {
            "text/plain": [
              "Breitbart              23781\n",
              "New York Post          17493\n",
              "NPR                    11992\n",
              "CNN                    11488\n",
              "Washington Post        11114\n",
              "Reuters                10710\n",
              "Guardian                8681\n",
              "New York Times          7803\n",
              "Atlantic                7179\n",
              "Business Insider        6757\n",
              "National Review         6203\n",
              "Talking Points Memo     5214\n",
              "Vox                     4947\n",
              "Buzzfeed News           4854\n",
              "Fox News                4354\n",
              "www                     2505\n",
              "tass                     485\n",
              "abcnews                  474\n",
              "europe                   360\n",
              "Name: publication, dtype: int64"
            ]
          },
          "metadata": {
            "tags": []
          },
          "execution_count": 28
        }
      ]
    },
    {
      "cell_type": "code",
      "metadata": {
        "id": "aRG4V72Fl3_s",
        "colab_type": "code",
        "colab": {}
      },
      "source": [
        "df['publication'] = df['publication'].replace({'www':'CNN'})"
      ],
      "execution_count": 0,
      "outputs": []
    },
    {
      "cell_type": "code",
      "metadata": {
        "id": "GeHwK8OWl3_0",
        "colab_type": "code",
        "colab": {}
      },
      "source": [
        "df[['content','publication','title+content']] = df[['content','publication','title+content']].astype('str')"
      ],
      "execution_count": 0,
      "outputs": []
    },
    {
      "cell_type": "code",
      "metadata": {
        "id": "rGZ5D9G0l3_5",
        "colab_type": "code",
        "colab": {}
      },
      "source": [
        "df['content'] = df['content'].astype('str')"
      ],
      "execution_count": 0,
      "outputs": []
    },
    {
      "cell_type": "code",
      "metadata": {
        "id": "QEWpY41_l3_9",
        "colab_type": "code",
        "colab": {}
      },
      "source": [
        "df['title'] = df['title'].astype('str')"
      ],
      "execution_count": 0,
      "outputs": []
    },
    {
      "cell_type": "code",
      "metadata": {
        "id": "YVrwz51kl4AA",
        "colab_type": "code",
        "outputId": "eb08f26e-7381-498e-803d-d5585b0d4649",
        "colab": {
          "base_uri": "https://localhost:8080/",
          "height": 0
        }
      },
      "source": [
        "df.info()"
      ],
      "execution_count": 33,
      "outputs": [
        {
          "output_type": "stream",
          "text": [
            "<class 'pandas.core.frame.DataFrame'>\n",
            "Int64Index: 146394 entries, 0 to 42570\n",
            "Data columns (total 7 columns):\n",
            "content          146394 non-null object\n",
            "date             143753 non-null object\n",
            "publication      146394 non-null object\n",
            "title            146394 non-null object\n",
            "title1           3824 non-null object\n",
            "url              89383 non-null object\n",
            "title+content    146394 non-null object\n",
            "dtypes: object(7)\n",
            "memory usage: 8.9+ MB\n"
          ],
          "name": "stdout"
        }
      ]
    },
    {
      "cell_type": "code",
      "metadata": {
        "id": "dSgcK1d8l4AC",
        "colab_type": "code",
        "colab": {}
      },
      "source": [
        "df['url'] = df['url'].fillna('No url')"
      ],
      "execution_count": 0,
      "outputs": []
    },
    {
      "cell_type": "markdown",
      "metadata": {
        "id": "vARVFgHbl4AE",
        "colab_type": "text"
      },
      "source": [
        "### Processing text data "
      ]
    },
    {
      "cell_type": "code",
      "metadata": {
        "id": "1yrXouTLl4AF",
        "colab_type": "code",
        "colab": {}
      },
      "source": [
        "import re \n",
        "import string "
      ],
      "execution_count": 0,
      "outputs": []
    },
    {
      "cell_type": "code",
      "metadata": {
        "id": "Z6fYeTLjl4AK",
        "colab_type": "code",
        "colab": {}
      },
      "source": [
        "alphanumeric = lambda x: re.sub('\\w*\\d\\w*', ' ', x)\n",
        "punc_lower = lambda x: re.sub('[%s]' % re.escape(string.punctuation), ' ', x.lower())"
      ],
      "execution_count": 0,
      "outputs": []
    },
    {
      "cell_type": "code",
      "metadata": {
        "id": "oeU29Dnil4AN",
        "colab_type": "code",
        "colab": {}
      },
      "source": [
        "df['content'] = df['content'].map(alphanumeric).map(punc_lower)"
      ],
      "execution_count": 0,
      "outputs": []
    },
    {
      "cell_type": "code",
      "metadata": {
        "id": "CKPcMEOPl4AQ",
        "colab_type": "code",
        "colab": {}
      },
      "source": [
        "df['title'] = df['title'].map(alphanumeric).map(punc_lower)"
      ],
      "execution_count": 0,
      "outputs": []
    },
    {
      "cell_type": "code",
      "metadata": {
        "id": "_BHvG5eZl4AS",
        "colab_type": "code",
        "colab": {}
      },
      "source": [
        "df['title+content'] = df['title+content'].map(alphanumeric).map(punc_lower)"
      ],
      "execution_count": 0,
      "outputs": []
    },
    {
      "cell_type": "markdown",
      "metadata": {
        "id": "Gdf0ybvpl4AU",
        "colab_type": "text"
      },
      "source": [
        "### LSTM Modeling "
      ]
    },
    {
      "cell_type": "code",
      "metadata": {
        "id": "Y_4Bpphil4AV",
        "colab_type": "code",
        "colab": {}
      },
      "source": [
        "from keras.preprocessing.sequence import pad_sequences"
      ],
      "execution_count": 0,
      "outputs": []
    },
    {
      "cell_type": "code",
      "metadata": {
        "id": "dLypYfRgl4AY",
        "colab_type": "code",
        "colab": {}
      },
      "source": [
        "from sklearn.model_selection import train_test_split"
      ],
      "execution_count": 0,
      "outputs": []
    },
    {
      "cell_type": "code",
      "metadata": {
        "id": "AhOVrEpgl4Ah",
        "colab_type": "code",
        "colab": {}
      },
      "source": [
        "from keras.layers import SpatialDropout1D\n",
        "from keras.callbacks import EarlyStopping\n"
      ],
      "execution_count": 0,
      "outputs": []
    },
    {
      "cell_type": "code",
      "metadata": {
        "id": "fR3-xDBkl4An",
        "colab_type": "code",
        "colab": {}
      },
      "source": [
        "# The maximum number of words to be used. (most frequent)\n",
        "# Max number of words in each complaint.\n",
        "MAX_SEQUENCE_LENGTH = 250\n",
        "# This is fixed.\n",
        "EMBEDDING_DIM = 100\n",
        "MAX_NB_WORDS = 30000\n"
      ],
      "execution_count": 0,
      "outputs": []
    },
    {
      "cell_type": "code",
      "metadata": {
        "id": "Sn8TydS5l4Au",
        "colab_type": "code",
        "colab": {}
      },
      "source": [
        "tokenizer = Tokenizer(num_words = MAX_NB_WORDS, filters=\"\"\"!\"#$%&()*+,-./:;<=>?@[\\\\]^_`{|}~\\t\\n',\"\"\")\n",
        "tokenizer.fit_on_texts(df['title+content'].values)\n",
        "word_index = tokenizer.word_index"
      ],
      "execution_count": 0,
      "outputs": []
    },
    {
      "cell_type": "code",
      "metadata": {
        "id": "_YEFKoqDl4Az",
        "colab_type": "code",
        "colab": {}
      },
      "source": [
        "# Convert tokenized sentences to sequence format\n",
        "X = tokenizer.texts_to_sequences(df['title+content'])\n",
        "X = pad_sequences(X, maxlen=MAX_SEQUENCE_LENGTH)"
      ],
      "execution_count": 0,
      "outputs": []
    },
    {
      "cell_type": "code",
      "metadata": {
        "id": "rTjJj4Isl4A2",
        "colab_type": "code",
        "colab": {}
      },
      "source": [
        "Y = pd.get_dummies(df['publication']).values"
      ],
      "execution_count": 0,
      "outputs": []
    },
    {
      "cell_type": "markdown",
      "metadata": {
        "id": "YUoeoHAGKd3o",
        "colab_type": "text"
      },
      "source": [
        ""
      ]
    },
    {
      "cell_type": "code",
      "metadata": {
        "id": "UI9epHcOJ2FV",
        "colab_type": "code",
        "colab": {}
      },
      "source": [
        "Yx = pd.get_dummies(df['publication'])"
      ],
      "execution_count": 0,
      "outputs": []
    },
    {
      "cell_type": "code",
      "metadata": {
        "id": "5xCKGiLdl4A5",
        "colab_type": "code",
        "outputId": "a0d7b3c0-b2e1-4b12-d217-95d1c19aadf6",
        "colab": {
          "base_uri": "https://localhost:8080/",
          "height": 51
        }
      },
      "source": [
        "X_train, X_test, Y_train, Y_test = train_test_split(X,Y, test_size = 0.20)\n",
        "print(X_train.shape,Y_train.shape)\n",
        "print(X_test.shape,Y_test.shape)"
      ],
      "execution_count": 48,
      "outputs": [
        {
          "output_type": "stream",
          "text": [
            "(117115, 250) (117115, 18)\n",
            "(29279, 250) (29279, 18)\n"
          ],
          "name": "stdout"
        }
      ]
    },
    {
      "cell_type": "code",
      "metadata": {
        "id": "HXB3IYWpl4A8",
        "colab_type": "code",
        "outputId": "9110c48c-4250-444e-9f3b-34b583fbc94d",
        "colab": {
          "base_uri": "https://localhost:8080/",
          "height": 819
        }
      },
      "source": [
        "from keras import backend as K\n",
        "\n",
        "def recall_m(Y_test, y_pred):\n",
        "        true_positives = K.sum(K.round(K.clip(Y_test * y_pred, 0, 1)))\n",
        "        possible_positives = K.sum(K.round(K.clip(Y_test, 0, 1)))\n",
        "        recall = true_positives / (possible_positives + K.epsilon())\n",
        "        return recall\n",
        "\n",
        "def precision_m(Y_test, y_pred):\n",
        "        true_positives = K.sum(K.round(K.clip(Y_test * y_pred, 0, 1)))\n",
        "        predicted_positives = K.sum(K.round(K.clip(y_pred, 0, 1)))\n",
        "        precision = true_positives / (predicted_positives + K.epsilon())\n",
        "        return precision\n",
        "\n",
        "def f1_m(Y_test, y_pred):\n",
        "    precision = precision_m(Y_test, y_pred)\n",
        "    recall = recall_m(Y_test, y_pred)\n",
        "    return 2*((precision*recall)/(precision+recall+K.epsilon()))\n",
        "\n",
        "\n",
        "model = Sequential()\n",
        "model.add(Embedding(input_dim=MAX_NB_WORDS, output_dim=40, embeddings_initializer='glorot_uniform', input_length=MAX_SEQUENCE_LENGTH))\n",
        "model.add(SpatialDropout1D(0.2))\n",
        "y_pred = model.predict(X_test)\n",
        "\n",
        "model.add(LSTM(100, dropout=0.2, recurrent_dropout=0.2))\n",
        "model.add(Dense(18, activation='softmax'))\n",
        "model.compile(loss='categorical_crossentropy',\n",
        "                  optimizer='adam',\n",
        "                  metrics=['accuracy',f1_m,precision_m, recall_m])\n",
        "\n",
        "model.summary()"
      ],
      "execution_count": 49,
      "outputs": [
        {
          "output_type": "stream",
          "text": [
            "WARNING:tensorflow:From /usr/local/lib/python3.6/dist-packages/keras/backend/tensorflow_backend.py:66: The name tf.get_default_graph is deprecated. Please use tf.compat.v1.get_default_graph instead.\n",
            "\n"
          ],
          "name": "stdout"
        },
        {
          "output_type": "stream",
          "text": [
            "2019-10-03 01:11:57,467 : WARNING : From /usr/local/lib/python3.6/dist-packages/keras/backend/tensorflow_backend.py:66: The name tf.get_default_graph is deprecated. Please use tf.compat.v1.get_default_graph instead.\n",
            "\n"
          ],
          "name": "stderr"
        },
        {
          "output_type": "stream",
          "text": [
            "WARNING:tensorflow:From /usr/local/lib/python3.6/dist-packages/keras/backend/tensorflow_backend.py:541: The name tf.placeholder is deprecated. Please use tf.compat.v1.placeholder instead.\n",
            "\n"
          ],
          "name": "stdout"
        },
        {
          "output_type": "stream",
          "text": [
            "2019-10-03 01:11:57,537 : WARNING : From /usr/local/lib/python3.6/dist-packages/keras/backend/tensorflow_backend.py:541: The name tf.placeholder is deprecated. Please use tf.compat.v1.placeholder instead.\n",
            "\n"
          ],
          "name": "stderr"
        },
        {
          "output_type": "stream",
          "text": [
            "WARNING:tensorflow:From /usr/local/lib/python3.6/dist-packages/keras/backend/tensorflow_backend.py:4432: The name tf.random_uniform is deprecated. Please use tf.random.uniform instead.\n",
            "\n"
          ],
          "name": "stdout"
        },
        {
          "output_type": "stream",
          "text": [
            "2019-10-03 01:11:57,548 : WARNING : From /usr/local/lib/python3.6/dist-packages/keras/backend/tensorflow_backend.py:4432: The name tf.random_uniform is deprecated. Please use tf.random.uniform instead.\n",
            "\n"
          ],
          "name": "stderr"
        },
        {
          "output_type": "stream",
          "text": [
            "WARNING:tensorflow:From /usr/local/lib/python3.6/dist-packages/keras/backend/tensorflow_backend.py:148: The name tf.placeholder_with_default is deprecated. Please use tf.compat.v1.placeholder_with_default instead.\n",
            "\n"
          ],
          "name": "stdout"
        },
        {
          "output_type": "stream",
          "text": [
            "2019-10-03 01:11:57,573 : WARNING : From /usr/local/lib/python3.6/dist-packages/keras/backend/tensorflow_backend.py:148: The name tf.placeholder_with_default is deprecated. Please use tf.compat.v1.placeholder_with_default instead.\n",
            "\n"
          ],
          "name": "stderr"
        },
        {
          "output_type": "stream",
          "text": [
            "WARNING:tensorflow:From /usr/local/lib/python3.6/dist-packages/keras/backend/tensorflow_backend.py:3733: calling dropout (from tensorflow.python.ops.nn_ops) with keep_prob is deprecated and will be removed in a future version.\n",
            "Instructions for updating:\n",
            "Please use `rate` instead of `keep_prob`. Rate should be set to `rate = 1 - keep_prob`.\n"
          ],
          "name": "stdout"
        },
        {
          "output_type": "stream",
          "text": [
            "2019-10-03 01:11:57,585 : WARNING : From /usr/local/lib/python3.6/dist-packages/keras/backend/tensorflow_backend.py:3733: calling dropout (from tensorflow.python.ops.nn_ops) with keep_prob is deprecated and will be removed in a future version.\n",
            "Instructions for updating:\n",
            "Please use `rate` instead of `keep_prob`. Rate should be set to `rate = 1 - keep_prob`.\n"
          ],
          "name": "stderr"
        },
        {
          "output_type": "stream",
          "text": [
            "WARNING:tensorflow:From /usr/local/lib/python3.6/dist-packages/keras/backend/tensorflow_backend.py:3005: The name tf.Session is deprecated. Please use tf.compat.v1.Session instead.\n",
            "\n"
          ],
          "name": "stdout"
        },
        {
          "output_type": "stream",
          "text": [
            "2019-10-03 01:11:57,609 : WARNING : From /usr/local/lib/python3.6/dist-packages/keras/backend/tensorflow_backend.py:3005: The name tf.Session is deprecated. Please use tf.compat.v1.Session instead.\n",
            "\n"
          ],
          "name": "stderr"
        },
        {
          "output_type": "stream",
          "text": [
            "WARNING:tensorflow:From /usr/local/lib/python3.6/dist-packages/keras/optimizers.py:793: The name tf.train.Optimizer is deprecated. Please use tf.compat.v1.train.Optimizer instead.\n",
            "\n"
          ],
          "name": "stdout"
        },
        {
          "output_type": "stream",
          "text": [
            "2019-10-03 01:12:04,729 : WARNING : From /usr/local/lib/python3.6/dist-packages/keras/optimizers.py:793: The name tf.train.Optimizer is deprecated. Please use tf.compat.v1.train.Optimizer instead.\n",
            "\n"
          ],
          "name": "stderr"
        },
        {
          "output_type": "stream",
          "text": [
            "Model: \"sequential_1\"\n",
            "_________________________________________________________________\n",
            "Layer (type)                 Output Shape              Param #   \n",
            "=================================================================\n",
            "embedding_1 (Embedding)      (None, 250, 40)           1200000   \n",
            "_________________________________________________________________\n",
            "spatial_dropout1d_1 (Spatial (None, 250, 40)           0         \n",
            "_________________________________________________________________\n",
            "lstm_1 (LSTM)                (None, 100)               56400     \n",
            "_________________________________________________________________\n",
            "dense_1 (Dense)              (None, 18)                1818      \n",
            "=================================================================\n",
            "Total params: 1,258,218\n",
            "Trainable params: 1,258,218\n",
            "Non-trainable params: 0\n",
            "_________________________________________________________________\n"
          ],
          "name": "stdout"
        }
      ]
    },
    {
      "cell_type": "code",
      "metadata": {
        "id": "0-Y0Nqgpl4A_",
        "colab_type": "code",
        "outputId": "2a01635e-b040-4810-9553-781392868e25",
        "colab": {
          "base_uri": "https://localhost:8080/",
          "height": 411
        }
      },
      "source": [
        "epochs = 10\n",
        "batch_size = 64\n",
        "\n",
        "\n",
        "model.fit(X_train, Y_train, batch_size=256, epochs=epochs, \n",
        "              validation_data=(X_test, Y_test))\n"
      ],
      "execution_count": 51,
      "outputs": [
        {
          "output_type": "stream",
          "text": [
            "Train on 117115 samples, validate on 29279 samples\n",
            "Epoch 1/10\n",
            "117115/117115 [==============================] - 331s 3ms/step - loss: 0.6888 - acc: 0.7850 - f1_m: 0.7875 - precision_m: 0.8937 - recall_m: 0.7042 - val_loss: 0.9900 - val_acc: 0.7017 - val_f1_m: 0.7190 - val_precision_m: 0.8278 - val_recall_m: 0.6359\n",
            "Epoch 2/10\n",
            "117115/117115 [==============================] - 330s 3ms/step - loss: 0.6301 - acc: 0.8027 - f1_m: 0.8053 - precision_m: 0.9006 - recall_m: 0.7286 - val_loss: 0.9606 - val_acc: 0.7151 - val_f1_m: 0.7326 - val_precision_m: 0.8218 - val_recall_m: 0.6612\n",
            "Epoch 3/10\n",
            "117115/117115 [==============================] - 326s 3ms/step - loss: 0.5747 - acc: 0.8203 - f1_m: 0.8233 - precision_m: 0.9069 - recall_m: 0.7540 - val_loss: 0.9577 - val_acc: 0.7237 - val_f1_m: 0.7397 - val_precision_m: 0.8155 - val_recall_m: 0.6770\n",
            "Epoch 4/10\n",
            "117115/117115 [==============================] - 332s 3ms/step - loss: 0.5244 - acc: 0.8362 - f1_m: 0.8384 - precision_m: 0.9110 - recall_m: 0.7767 - val_loss: 0.9394 - val_acc: 0.7282 - val_f1_m: 0.7436 - val_precision_m: 0.8197 - val_recall_m: 0.6806\n",
            "Epoch 5/10\n",
            "117115/117115 [==============================] - 336s 3ms/step - loss: 0.4818 - acc: 0.8495 - f1_m: 0.8524 - precision_m: 0.9174 - recall_m: 0.7961 - val_loss: 0.9612 - val_acc: 0.7285 - val_f1_m: 0.7454 - val_precision_m: 0.8116 - val_recall_m: 0.6894\n",
            "Epoch 6/10\n",
            "117115/117115 [==============================] - 331s 3ms/step - loss: 0.4429 - acc: 0.8610 - f1_m: 0.8637 - precision_m: 0.9212 - recall_m: 0.8131 - val_loss: 0.9610 - val_acc: 0.7326 - val_f1_m: 0.7474 - val_precision_m: 0.8076 - val_recall_m: 0.6958\n",
            "Epoch 7/10\n",
            "117115/117115 [==============================] - 334s 3ms/step - loss: 0.4059 - acc: 0.8721 - f1_m: 0.8746 - precision_m: 0.9267 - recall_m: 0.8282 - val_loss: 0.9882 - val_acc: 0.7336 - val_f1_m: 0.7488 - val_precision_m: 0.8018 - val_recall_m: 0.7025\n",
            "Epoch 8/10\n",
            "117115/117115 [==============================] - 331s 3ms/step - loss: 0.3736 - acc: 0.8814 - f1_m: 0.8843 - precision_m: 0.9306 - recall_m: 0.8424 - val_loss: 0.9984 - val_acc: 0.7382 - val_f1_m: 0.7511 - val_precision_m: 0.7994 - val_recall_m: 0.7085\n",
            "Epoch 9/10\n",
            "117115/117115 [==============================] - 330s 3ms/step - loss: 0.3457 - acc: 0.8908 - f1_m: 0.8926 - precision_m: 0.9344 - recall_m: 0.8546 - val_loss: 1.0098 - val_acc: 0.7377 - val_f1_m: 0.7513 - val_precision_m: 0.7981 - val_recall_m: 0.7099\n",
            "Epoch 10/10\n",
            "117115/117115 [==============================] - 329s 3ms/step - loss: 0.3185 - acc: 0.8993 - f1_m: 0.9009 - precision_m: 0.9378 - recall_m: 0.8668 - val_loss: 1.0337 - val_acc: 0.7381 - val_f1_m: 0.7497 - val_precision_m: 0.7910 - val_recall_m: 0.7126\n"
          ],
          "name": "stdout"
        },
        {
          "output_type": "execute_result",
          "data": {
            "text/plain": [
              "<keras.callbacks.History at 0x7f7ff0059940>"
            ]
          },
          "metadata": {
            "tags": []
          },
          "execution_count": 51
        }
      ]
    },
    {
      "cell_type": "code",
      "metadata": {
        "id": "1EqCC99El4BD",
        "colab_type": "code",
        "colab": {}
      },
      "source": [
        "hidden_features = model.predict(X_test)"
      ],
      "execution_count": 0,
      "outputs": []
    },
    {
      "cell_type": "code",
      "metadata": {
        "id": "FhilwNzSJdyK",
        "colab_type": "code",
        "colab": {}
      },
      "source": [
        "from sklearn.decomposition import PCA\n",
        "from sklearn.manifold import TSNE\n"
      ],
      "execution_count": 0,
      "outputs": []
    },
    {
      "cell_type": "code",
      "metadata": {
        "id": "gMe3kqKBKbY9",
        "colab_type": "code",
        "colab": {}
      },
      "source": [
        "pca = PCA(n_components=16)\n",
        "pca_result = pca.fit_transform(hidden_features)\n",
        "print('Variance PCA: {}'.format(np.sum(pca.explained_variance_ratio_)))\n",
        "##Variance PCA: 0.993621154832802\n",
        "\n",
        "#Run T-SNE on the PCA features.\n",
        "tsne = TSNE(n_components=2, verbose = 1)\n",
        "tsne_results = tsne.fit_transform(pca_result[:5000])"
      ],
      "execution_count": 0,
      "outputs": []
    },
    {
      "cell_type": "code",
      "metadata": {
        "id": "JmlLcXAWJVKE",
        "colab_type": "code",
        "colab": {}
      },
      "source": [
        "np_utils.to_categorical(Y_test[1], num_classes=16)"
      ],
      "execution_count": 0,
      "outputs": []
    },
    {
      "cell_type": "code",
      "metadata": {
        "id": "Fqg2CZ6cKnGn",
        "colab_type": "code",
        "colab": {}
      },
      "source": [
        "from keras.utils import np_utils\n",
        "import matplotlib.pyplot as plt\n",
        "%matplotlib inline\n",
        "\n",
        "y_test_cat = np_utils.to_categorical(Y_test[:5000])\n",
        "color_map = np.argmax(y_test_cat, axis=1)\n",
        "plt.figure(figsize=(10,10))\n",
        "for cl in range(16):\n",
        "    indices = np.where(color_map==cl)\n",
        "    indices = indices[0]\n",
        "    plt.scatter(tsne_results[indices,0], tsne_results[indices, 1], label=cl)\n",
        "plt.legend(Yx.columns)\n",
        "plt.show()"
      ],
      "execution_count": 0,
      "outputs": []
    },
    {
      "cell_type": "code",
      "metadata": {
        "id": "tdl5xmk1LbSh",
        "colab_type": "code",
        "colab": {}
      },
      "source": [
        ""
      ],
      "execution_count": 0,
      "outputs": []
    }
  ]
}